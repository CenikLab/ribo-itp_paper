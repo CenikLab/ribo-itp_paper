{
 "cells": [
  {
   "cell_type": "markdown",
   "id": "a173b5d1",
   "metadata": {},
   "source": [
    "# Pickinging SNPS in CDS\n",
    "\n",
    "In this script, we pick the SNPs only in the coding sequence of the transcripts."
   ]
  },
  {
   "cell_type": "code",
   "execution_count": null,
   "id": "00cd2c9e",
   "metadata": {},
   "outputs": [],
   "source": []
  },
  {
   "cell_type": "code",
   "execution_count": 1,
   "id": "ec32e1de",
   "metadata": {},
   "outputs": [],
   "source": [
    "import gzip"
   ]
  },
  {
   "cell_type": "code",
   "execution_count": 2,
   "id": "eee0bfb5",
   "metadata": {},
   "outputs": [],
   "source": [
    "input_vcf  = \"../reference_files/transcriptomic_variants.vcf.gz\"\n",
    "output_vcf = \"../reference_files/cds_of_transcriptomic_variants.vcf.gz\""
   ]
  },
  {
   "cell_type": "code",
   "execution_count": 3,
   "id": "74de09dd",
   "metadata": {},
   "outputs": [],
   "source": [
    "def get_start_stop_from_chrom_header(chrom_header):\n",
    "    header_components= chrom_header.split(\"|\")\n",
    "    \n",
    "    for c in header_components:\n",
    "        if c.startswith(\"CDS\"):\n",
    "            cds_start_stop = c.split(\":\")[1].split(\"-\")\n",
    "            cds_start = int(cds_start_stop[0])\n",
    "            cds_stop  = int(cds_start_stop[1])\n",
    "            return ( cds_start, cds_stop )\n",
    "    raise Error(\"No CDS found!\")\n",
    "            "
   ]
  },
  {
   "cell_type": "code",
   "execution_count": 4,
   "id": "3f67b093",
   "metadata": {},
   "outputs": [],
   "source": [
    "with gzip.open( input_vcf , \"rt\" ) as input_stream,\\\n",
    "     gzip.open( output_vcf, \"wt\") as output_stream:        \n",
    "    \n",
    "    for this_line in input_stream:\n",
    "        this_line = this_line.strip()\n",
    "        \n",
    "        if this_line.startswith(\"#\"):\n",
    "            print(this_line, file = output_stream)\n",
    "            continue\n",
    "            \n",
    "        line_contents = this_line.split()\n",
    "        \n",
    "        if len(line_contents) < 4:\n",
    "            continue\n",
    "            \n",
    "        chrom_header = line_contents[0]\n",
    "        position     = int(line_contents[1])\n",
    "        \n",
    "        cds_start, cds_stop = get_start_stop_from_chrom_header(chrom_header)\n",
    "        \n",
    "        if position >= cds_start and position <= cds_stop:\n",
    "            print( this_line, file = output_stream )\n",
    "        "
   ]
  },
  {
   "cell_type": "code",
   "execution_count": null,
   "id": "a91bebf5",
   "metadata": {},
   "outputs": [],
   "source": []
  },
  {
   "cell_type": "code",
   "execution_count": 5,
   "id": "cfa4e4a9",
   "metadata": {},
   "outputs": [
    {
     "data": {
      "text/plain": [
       "(346, 4518)"
      ]
     },
     "execution_count": 5,
     "metadata": {},
     "output_type": "execute_result"
    }
   ],
   "source": [
    "sample_header = \"ENSMUST00000120274.7|ENSMUSG00000040624.18|OTTMUSG00000030941.3|OTTMUST00000076586.1|Plekhg1-202|Plekhg1|7369|UTR5:1-345|CDS:346-4518|UTR3:4519-7369|\"\n",
    "\n",
    "get_start_stop_from_chrom_header(sample_header)"
   ]
  },
  {
   "cell_type": "code",
   "execution_count": null,
   "id": "f8d6fc26",
   "metadata": {},
   "outputs": [],
   "source": []
  },
  {
   "cell_type": "code",
   "execution_count": null,
   "id": "724e5b1a",
   "metadata": {},
   "outputs": [],
   "source": []
  },
  {
   "cell_type": "code",
   "execution_count": null,
   "id": "3d0e809b",
   "metadata": {},
   "outputs": [],
   "source": []
  }
 ],
 "metadata": {
  "kernelspec": {
   "display_name": "Python 3",
   "language": "python",
   "name": "python3"
  },
  "language_info": {
   "codemirror_mode": {
    "name": "ipython",
    "version": 3
   },
   "file_extension": ".py",
   "mimetype": "text/x-python",
   "name": "python",
   "nbconvert_exporter": "python",
   "pygments_lexer": "ipython3",
   "version": "3.6.13"
  }
 },
 "nbformat": 4,
 "nbformat_minor": 5
}
