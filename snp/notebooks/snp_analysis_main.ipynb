{
 "cells": [
  {
   "cell_type": "markdown",
   "id": "f3645943",
   "metadata": {},
   "source": [
    "# SNPS ANALYSIS OF MOUSE RIBOSOME PROFILING AND RNA-SEQ DATA"
   ]
  },
  {
   "cell_type": "code",
   "execution_count": null,
   "id": "abeb3be7",
   "metadata": {},
   "outputs": [],
   "source": []
  },
  {
   "cell_type": "code",
   "execution_count": 190,
   "id": "990895ee",
   "metadata": {},
   "outputs": [],
   "source": [
    "import gzip\n",
    "import pandas as pd\n",
    "import numpy as np\n",
    "import scipy as sp\n",
    "import os\n",
    "\n",
    "from multiprocessing import Pool\n",
    "from matplotlib import pyplot as plt\n",
    "from functools import reduce\n",
    "\n",
    "import pickle\n",
    "\n",
    "# We use rpy2 for the prop.test and padjust in R\n",
    "import rpy2\n",
    "from rpy2 import robjects\n",
    "from rpy2.robjects import r, pandas2ri\n",
    "from rpy2.robjects.conversion import localconverter\n",
    "from rpy2.robjects.packages import importr\n",
    "\n",
    "\n",
    "from IPython.display import display, HTML"
   ]
  },
  {
   "cell_type": "code",
   "execution_count": 2,
   "id": "929a2112",
   "metadata": {},
   "outputs": [],
   "source": [
    "%load_ext rpy2.ipython\n",
    "%matplotlib inline\n",
    "\n",
    "plt.rcParams['figure.figsize'] = [16, 8]"
   ]
  },
  {
   "cell_type": "markdown",
   "id": "96fe2e3d",
   "metadata": {},
   "source": [
    "## Constants"
   ]
  },
  {
   "cell_type": "code",
   "execution_count": 553,
   "id": "8f48026f",
   "metadata": {},
   "outputs": [],
   "source": [
    "# The values of the confidence interval coming from the proptest\n",
    "# must be less than this value\n",
    "PROPTEST_ERROR_THRESHOLD = 0.05\n",
    "\n",
    "# After adjusting the p-values of the proptest\n",
    "# we pick the FDR values less than this threshold\n",
    "FDR_THRESHOLD = 0.2"
   ]
  },
  {
   "cell_type": "code",
   "execution_count": null,
   "id": "1a4436eb",
   "metadata": {},
   "outputs": [],
   "source": []
  },
  {
   "cell_type": "markdown",
   "id": "75c8c644",
   "metadata": {},
   "source": [
    "## Input & Output Folders"
   ]
  },
  {
   "cell_type": "code",
   "execution_count": 11,
   "id": "e087702b",
   "metadata": {},
   "outputs": [],
   "source": [
    "INPUT_FOLDER  = \"..\"\n",
    "OUTPUT_FOLDER = \"snp_dataframes\"\n",
    "\n",
    "if not os.path.isdir(OUTPUT_FOLDER):\n",
    "    os.makedirs(OUTPUT_FOLDER)"
   ]
  },
  {
   "cell_type": "code",
   "execution_count": null,
   "id": "81600d55",
   "metadata": {},
   "outputs": [],
   "source": []
  },
  {
   "cell_type": "code",
   "execution_count": 5,
   "id": "4b7c40b4",
   "metadata": {},
   "outputs": [],
   "source": [
    "# RNA_SEQ EXPERIMENTS\n",
    "# Note that we excluded the experiment 20210607-RNAseq-4cell-cross-B\n",
    "\n",
    "rnaseq_one_cell_exps = [\n",
    "\"20210607-RNAseq-1cell-cross-A\",\n",
    "\"20210607-RNAseq-1cell-cross-B\",\n",
    "\"20210607-RNAseq-1cell-cross-C\",\n",
    "\"20210607-RNAseq-1cell-cross-D\"]\n",
    "\n",
    "rnaseq_two_cell_exps = [\n",
    "\"20210607-RNAseq-2cell-cross-A\",\n",
    "\"20210607-RNAseq-2cell-cross-B\",\n",
    "\"20210607-RNAseq-2cell-cross-C\",\n",
    "\"20210607-RNAseq-2cell-cross-D\"\n",
    "]\n",
    "\n",
    "rnaseq_four_cell_exps = [\n",
    "\"20210607-RNAseq-4cell-cross-A\",\n",
    "#\"20210607-RNAseq-4cell-cross-B\",\n",
    "\"20210607-RNAseq-4cell-cross-C\"\n",
    "]\n",
    "\n",
    "rnaseq_eight_cell_exps = [\n",
    "\"20210607-RNAseq-8cell-cross-A\",\n",
    "\"20210607-RNAseq-8cell-cross-B\",\n",
    "\"20210607-RNAseq-8cell-cross-C\",\n",
    "\"20210607-RNAseq-8cell-cross-D\"\n",
    "]\n",
    "\n",
    "rnaseq_gv_epxs = [\n",
    "\"20210607-RNAseq-GV-A\",\n",
    "\"20210607-RNAseq-GV-B\",\n",
    "\"20210607-RNAseq-GV-C\",\n",
    "\"20210607-RNAseq-GV-D\"\n",
    "]\n",
    "\n",
    "rnaseq_mii_exps = [\n",
    "\"20210607-RNAseq-MII-A\",\n",
    "\"20210607-RNAseq-MII-B\",\n",
    "\"20210607-RNAseq-MII-C\",\n",
    "\"20210607-RNAseq-MII-D\"\n",
    "]\n",
    "\n",
    "rnaseq_all_exps = rnaseq_one_cell_exps + rnaseq_two_cell_exps + \\\n",
    "                  rnaseq_four_cell_exps + rnaseq_eight_cell_exps +\\\n",
    "                  rnaseq_gv_epxs + rnaseq_mii_exps"
   ]
  },
  {
   "cell_type": "code",
   "execution_count": 8,
   "id": "287c0d62",
   "metadata": {},
   "outputs": [],
   "source": [
    "## RIBOSOME PROFILING EXPERIMENTS\n",
    "\n",
    "riboseq_one_cell_exps = [\n",
    "\"20210513-ITP-1cell-cross-50-A\",\n",
    "\"20210513-ITP-1cell-cross-50-B\",\n",
    "\"20210513-ITP-1cell-cross-50-C\",\n",
    "\"20210513-ITP-1cell-cross-50-D\",\n",
    "\"20210513-ITP-1cell-cross-50-E\"]\n",
    "    \n",
    "riboseq_two_cell_exps = [\n",
    "\"20210513-ITP-2cell-cross-50-B\",\n",
    "\"20210513-ITP-2cell-cross-50-C\",\n",
    "\"20210513-ITP-2cell-cross-50-F\",\n",
    "]\n",
    "\n",
    "riboseq_four_cell_exps = [\n",
    "\"20210513-ITP-4cell-cross-50-B\",\n",
    "\"20210513-ITP-4cell-cross-50-C\",\n",
    "\"20210513-ITP-4cell-cross-50-D\",\n",
    "]\n",
    "    \n",
    "riboseq_eigth_cell_exps = [\n",
    "\"20210513-ITP-8cell-cross-50-A\",\n",
    "\"20210513-ITP-8cell-cross-50-B\",\n",
    "\"20210513-ITP-8cell-cross-50-C\",\n",
    "\"20210513-ITP-8cell-cross-50-D\",\n",
    "]\n",
    "    \n",
    "    \n",
    "riboseq_mii_exps = [\n",
    "\"20210301-ITP-MII-25-B\",\n",
    "\"20210301-ITP-MII-50-A\",\n",
    "\"20210301-ITP-MII-50-B\",\n",
    "\"20210318-ITP-MII-50-B\",\n",
    "#\"20210614-ITP-MII-50-A\",\n",
    "#\"20210614-ITP-MII-50-B\",\n",
    "#\"20210614-ITP-MII-50-C\",\n",
    "\"20210614-ITP-MII-50-D\",\n",
    "#\"20210614-ITP-MII-50-E\",\n",
    "#\"20210614-ITP-MII-50-F\",\n",
    "]    \n",
    "    \n",
    "    \n",
    "riboseq_gv_epxs = [\n",
    "\"20210614-ITP-GV-50-A\",\n",
    "\"20210614-ITP-GV-50-B\",\n",
    "\"20210614-ITP-GV-50-C\",\n",
    "\"20210614-ITP-GV-50-D\",\n",
    "\"20210614-ITP-GV-50-E\",\n",
    "\"20210614-ITP-GV-50-F\",\n",
    "]\n",
    "\n",
    "riboseq_all_exps = riboseq_one_cell_exps  + riboseq_two_cell_exps + \\\n",
    "                   riboseq_four_cell_exps + riboseq_eigth_cell_exps + \\\n",
    "                   riboseq_mii_exps       + riboseq_gv_epxs"
   ]
  },
  {
   "cell_type": "code",
   "execution_count": 44,
   "id": "86f98d1a",
   "metadata": {},
   "outputs": [],
   "source": [
    "## FUNCTIONS TO READ SNP FILES"
   ]
  },
  {
   "cell_type": "code",
   "execution_count": 9,
   "id": "88fe0cca",
   "metadata": {},
   "outputs": [],
   "source": [
    "def extract_CDS(name_str):\n",
    "    \"\"\"\n",
    "    Returns CDS boundaries from the transcript header\n",
    "    \"\"\"\n",
    "    \n",
    "    contents = name_str.split(\"|\")\n",
    "    \n",
    "    for c in contents:\n",
    "        if c.startswith(\"CDS\"):\n",
    "            boundaries = c.split(\":\")[1].split(\"-\")\n",
    "            return (int(boundaries[0]), int(boundaries[1]))\n",
    "    \n",
    "    print(name_str)\n",
    "    raise ValueError \n",
    "    \n",
    "    \n",
    "    \n",
    "############################################################\n",
    "    \n",
    "    \n",
    "    \n",
    "def get_df(snp_count_file):\n",
    "    \"\"\"\n",
    "    Reads SNP cont file into a dataframe\n",
    "    \"\"\"\n",
    "    \n",
    "    count_df         = pd.read_csv(snp_count_file, sep = \"\\t\")\n",
    "    transcript_names = list( map( lambda x: x.split(\"|\")[4], count_df[\"transcript\"]) )\n",
    "\n",
    "    boundaries       = list( map(extract_CDS, count_df[\"transcript\"])  )\n",
    "\n",
    "    start_positions  = list( map(lambda x: x[0], boundaries ) )\n",
    "    stop_positions   = list( map(lambda x: x[1], boundaries ) )\n",
    "\n",
    "    snp_total = count_df[\"A\"] + count_df[\"C\"] + count_df[\"G\"] +  count_df[\"T\"]\n",
    "\n",
    "    count_df[\"transcript\"] = transcript_names\n",
    "    count_df[\"snp_total\"]  = snp_total\n",
    "    count_df[\"CDS_start\"]  = start_positions\n",
    "    count_df[\"CDS_stop\"]   = stop_positions\n",
    "\n",
    "\n",
    "    count_df.sort_values(by = ['snp_total'], ascending=False, inplace=True)\n",
    "    \n",
    "    return count_df    \n",
    "\n",
    "#################################################################\n",
    "\n",
    "def get_ref_alt_counts(count_df):\n",
    "    \"\"\"\n",
    "    Extracts the reference (maternal) and alternative (paternal) \n",
    "    counts from the dataframes\n",
    "    \"\"\"\n",
    "    \n",
    "    ref_count   = 0\n",
    "    alt_count   = 0\n",
    "    total_count = 0\n",
    "    \n",
    "    cds_ref_count   = 0\n",
    "    cds_alt_count   = 0\n",
    "    cds_total_count = 0\n",
    "\n",
    "    for index, row in count_df.iterrows():\n",
    "        total_count += row[\"A\"] + row[\"C\"] + row[\"G\"] + row[\"T\"]\n",
    "        ref_count   += row[ row[\"REF\"] ]\n",
    "        alt_count   += row[ row[\"ALT\"] ]\n",
    "        \n",
    "        if row[\"position\"] >= row[\"CDS_start\"] and\\\n",
    "           row[\"position\"] <= row[\"CDS_stop\"]:\n",
    "                cds_total_count += row[\"A\"] + row[\"C\"] + row[\"G\"] + row[\"T\"]\n",
    "                cds_ref_count   += row[ row[\"REF\"] ]\n",
    "                cds_alt_count   += row[ row[\"ALT\"] ]            \n",
    "\n",
    "        \n",
    "    return {\"ref_count\":     ref_count,     \"alt_count\": alt_count,         \"total_count\": total_count,\n",
    "            \"cds_ref_count\": cds_ref_count, \"cds_alt_count\": cds_alt_count, \"cds_total_count\": cds_total_count}"
   ]
  },
  {
   "cell_type": "markdown",
   "id": "cfaa15af",
   "metadata": {},
   "source": [
    "## RNA-Seq SNP Calls\n",
    "\n",
    "We read SNP calls from RNA-Seq into dataframes."
   ]
  },
  {
   "cell_type": "code",
   "execution_count": 12,
   "id": "c92ed715",
   "metadata": {},
   "outputs": [],
   "source": [
    "rnaseq_experiment_dfs = dict()\n",
    "\n",
    "for e in rnaseq_all_exps:\n",
    "    this_file = os.path.join( INPUT_FOLDER, \"snp_counts_rnaseq\", e + \".tsv.gz\")\n",
    "    rnaseq_experiment_dfs[e] = get_df(this_file)\n",
    "    rnaseq_experiment_dfs[e][\"experiment\"] = e\n",
    "    \n",
    "rnaseq_reference_alt_counts = dict()\n",
    "\n",
    "with Pool(4) as p:\n",
    "    rnaseq_counts_array = p.map( get_ref_alt_counts, [ rnaseq_experiment_dfs[e] for e in rnaseq_all_exps ] )\n",
    "    \n",
    "for i in range(len(rnaseq_all_exps)):\n",
    "    rnaseq_reference_alt_counts[rnaseq_all_exps[i]] = rnaseq_counts_array[i]\n",
    "    \n"
   ]
  },
  {
   "cell_type": "code",
   "execution_count": 47,
   "id": "0abd8c58",
   "metadata": {},
   "outputs": [],
   "source": [
    "#Uncomment to get the count\n",
    "#for e in rnaseq_all_exps:\n",
    "#    print(e)\n",
    "#    print(rnaseq_reference_alt_counts[e])"
   ]
  },
  {
   "cell_type": "code",
   "execution_count": 13,
   "id": "508c19b4",
   "metadata": {},
   "outputs": [
    {
     "data": {
      "text/html": [
       "<div>\n",
       "<style scoped>\n",
       "    .dataframe tbody tr th:only-of-type {\n",
       "        vertical-align: middle;\n",
       "    }\n",
       "\n",
       "    .dataframe tbody tr th {\n",
       "        vertical-align: top;\n",
       "    }\n",
       "\n",
       "    .dataframe thead th {\n",
       "        text-align: right;\n",
       "    }\n",
       "</style>\n",
       "<table border=\"1\" class=\"dataframe\">\n",
       "  <thead>\n",
       "    <tr style=\"text-align: right;\">\n",
       "      <th></th>\n",
       "      <th>ref_count</th>\n",
       "      <th>alt_count</th>\n",
       "      <th>total_count</th>\n",
       "      <th>cds_ref_count</th>\n",
       "      <th>cds_alt_count</th>\n",
       "      <th>cds_total_count</th>\n",
       "    </tr>\n",
       "  </thead>\n",
       "  <tbody>\n",
       "    <tr>\n",
       "      <th>20210607-RNAseq-1cell-cross-A</th>\n",
       "      <td>179914</td>\n",
       "      <td>314</td>\n",
       "      <td>180540</td>\n",
       "      <td>179914</td>\n",
       "      <td>314</td>\n",
       "      <td>180540</td>\n",
       "    </tr>\n",
       "    <tr>\n",
       "      <th>20210607-RNAseq-1cell-cross-B</th>\n",
       "      <td>180976</td>\n",
       "      <td>373</td>\n",
       "      <td>181700</td>\n",
       "      <td>180976</td>\n",
       "      <td>373</td>\n",
       "      <td>181700</td>\n",
       "    </tr>\n",
       "  </tbody>\n",
       "</table>\n",
       "</div>"
      ],
      "text/plain": [
       "                               ref_count  alt_count  total_count  \\\n",
       "20210607-RNAseq-1cell-cross-A     179914        314       180540   \n",
       "20210607-RNAseq-1cell-cross-B     180976        373       181700   \n",
       "\n",
       "                               cds_ref_count  cds_alt_count  cds_total_count  \n",
       "20210607-RNAseq-1cell-cross-A         179914            314           180540  \n",
       "20210607-RNAseq-1cell-cross-B         180976            373           181700  "
      ]
     },
     "execution_count": 13,
     "metadata": {},
     "output_type": "execute_result"
    }
   ],
   "source": [
    "rnaseq_snp_count_df  = pd.DataFrame.from_dict(rnaseq_reference_alt_counts).transpose()\n",
    "rnseq_snp_count_file = os.path.join(OUTPUT_FOLDER, \"rnaseq_experimentwise_snp_counts.csv\")\n",
    "rnaseq_snp_count_df.to_csv(rnseq_snp_count_file)\n",
    "\n",
    "rnaseq_snp_count_df[:2]"
   ]
  },
  {
   "cell_type": "code",
   "execution_count": 14,
   "id": "44389830",
   "metadata": {},
   "outputs": [],
   "source": [
    "def calculate_ref_alt_percentages(count_dict):\n",
    "    ref_percentage = (count_dict[\"ref_count\"] / count_dict[\"total_count\"] ) * 100\n",
    "    alt_percentage = (count_dict[\"alt_count\"] / count_dict[\"total_count\"] ) * 100\n",
    "    \n",
    "    cds_ref_percentage = (count_dict[\"cds_ref_count\"] / count_dict[\"cds_total_count\"] ) * 100\n",
    "    cds_alt_percentage = (count_dict[\"cds_alt_count\"] / count_dict[\"cds_total_count\"] ) * 100\n",
    "    \n",
    "    return {\"ref_percentage\": ref_percentage, \"alt_percentage\" : alt_percentage,\n",
    "           \"cds_ref_percentage\": cds_ref_percentage, \"cds_alt_percentage\" : cds_alt_percentage}"
   ]
  },
  {
   "cell_type": "code",
   "execution_count": 15,
   "id": "7bde771a",
   "metadata": {},
   "outputs": [],
   "source": [
    "def calculate_ref_alt_percentages(count_dict):\n",
    "    ref_percentage = (count_dict[\"ref_count\"] / count_dict[\"total_count\"] ) * 100\n",
    "    alt_percentage = (count_dict[\"alt_count\"] / count_dict[\"total_count\"] ) * 100\n",
    "    \n",
    "    cds_ref_percentage = (count_dict[\"cds_ref_count\"] / count_dict[\"cds_total_count\"] ) * 100\n",
    "    cds_alt_percentage = (count_dict[\"cds_alt_count\"] / count_dict[\"cds_total_count\"] ) * 100\n",
    "    \n",
    "    return {\"ref_percentage\": ref_percentage, \"alt_percentage\" : alt_percentage,\n",
    "           \"cds_ref_percentage\": cds_ref_percentage, \"cds_alt_percentage\" : cds_alt_percentage}"
   ]
  },
  {
   "cell_type": "code",
   "execution_count": 16,
   "id": "7ef29160",
   "metadata": {},
   "outputs": [],
   "source": [
    "rnaseq_reference_alt_percentages = dict()\n",
    "\n",
    "for e in rnaseq_all_exps:\n",
    "    rnaseq_reference_alt_percentages[e] = calculate_ref_alt_percentages(rnaseq_reference_alt_counts[e])"
   ]
  },
  {
   "cell_type": "code",
   "execution_count": 52,
   "id": "5cf1c78d",
   "metadata": {},
   "outputs": [],
   "source": [
    "# Uncomment to seethe percentages\n",
    "\n",
    "# for e in rnaseq_all_exps:\n",
    "#    print(e)\n",
    "#    print(\"Alt: {:.1f}    Ref: {:.1f}\".format( rnaseq_reference_alt_percentages[e][\"cds_alt_percentage\"],\n",
    "#                                       rnaseq_reference_alt_percentages[e][\"cds_ref_percentage\"]))"
   ]
  },
  {
   "cell_type": "code",
   "execution_count": 17,
   "id": "4a583b79",
   "metadata": {},
   "outputs": [
    {
     "data": {
      "text/html": [
       "<div>\n",
       "<style scoped>\n",
       "    .dataframe tbody tr th:only-of-type {\n",
       "        vertical-align: middle;\n",
       "    }\n",
       "\n",
       "    .dataframe tbody tr th {\n",
       "        vertical-align: top;\n",
       "    }\n",
       "\n",
       "    .dataframe thead th {\n",
       "        text-align: right;\n",
       "    }\n",
       "</style>\n",
       "<table border=\"1\" class=\"dataframe\">\n",
       "  <thead>\n",
       "    <tr style=\"text-align: right;\">\n",
       "      <th></th>\n",
       "      <th>transcript</th>\n",
       "      <th>position</th>\n",
       "      <th>REF</th>\n",
       "      <th>ALT</th>\n",
       "      <th>A</th>\n",
       "      <th>C</th>\n",
       "      <th>G</th>\n",
       "      <th>T</th>\n",
       "      <th>snp_total</th>\n",
       "      <th>CDS_start</th>\n",
       "      <th>CDS_stop</th>\n",
       "      <th>experiment</th>\n",
       "    </tr>\n",
       "  </thead>\n",
       "  <tbody>\n",
       "    <tr>\n",
       "      <th>68514</th>\n",
       "      <td>Rps19-203</td>\n",
       "      <td>303</td>\n",
       "      <td>C</td>\n",
       "      <td>T</td>\n",
       "      <td>1</td>\n",
       "      <td>521</td>\n",
       "      <td>1</td>\n",
       "      <td>616</td>\n",
       "      <td>1139</td>\n",
       "      <td>298</td>\n",
       "      <td>735</td>\n",
       "      <td>20210607-RNAseq-4cell-cross-C</td>\n",
       "    </tr>\n",
       "    <tr>\n",
       "      <th>66330</th>\n",
       "      <td>Dppa3-201</td>\n",
       "      <td>290</td>\n",
       "      <td>A</td>\n",
       "      <td>C</td>\n",
       "      <td>691</td>\n",
       "      <td>403</td>\n",
       "      <td>1</td>\n",
       "      <td>0</td>\n",
       "      <td>1095</td>\n",
       "      <td>114</td>\n",
       "      <td>566</td>\n",
       "      <td>20210607-RNAseq-4cell-cross-C</td>\n",
       "    </tr>\n",
       "    <tr>\n",
       "      <th>4478</th>\n",
       "      <td>Rps26-201</td>\n",
       "      <td>299</td>\n",
       "      <td>C</td>\n",
       "      <td>T</td>\n",
       "      <td>0</td>\n",
       "      <td>505</td>\n",
       "      <td>0</td>\n",
       "      <td>517</td>\n",
       "      <td>1022</td>\n",
       "      <td>270</td>\n",
       "      <td>617</td>\n",
       "      <td>20210607-RNAseq-4cell-cross-C</td>\n",
       "    </tr>\n",
       "    <tr>\n",
       "      <th>66329</th>\n",
       "      <td>Dppa3-201</td>\n",
       "      <td>263</td>\n",
       "      <td>C</td>\n",
       "      <td>T</td>\n",
       "      <td>0</td>\n",
       "      <td>509</td>\n",
       "      <td>0</td>\n",
       "      <td>437</td>\n",
       "      <td>946</td>\n",
       "      <td>114</td>\n",
       "      <td>566</td>\n",
       "      <td>20210607-RNAseq-4cell-cross-C</td>\n",
       "    </tr>\n",
       "    <tr>\n",
       "      <th>23498</th>\n",
       "      <td>Rpl15-202</td>\n",
       "      <td>275</td>\n",
       "      <td>A</td>\n",
       "      <td>G</td>\n",
       "      <td>441</td>\n",
       "      <td>0</td>\n",
       "      <td>474</td>\n",
       "      <td>0</td>\n",
       "      <td>915</td>\n",
       "      <td>120</td>\n",
       "      <td>734</td>\n",
       "      <td>20210607-RNAseq-4cell-cross-C</td>\n",
       "    </tr>\n",
       "  </tbody>\n",
       "</table>\n",
       "</div>"
      ],
      "text/plain": [
       "      transcript  position REF ALT    A    C    G    T  snp_total  CDS_start  \\\n",
       "68514  Rps19-203       303   C   T    1  521    1  616       1139        298   \n",
       "66330  Dppa3-201       290   A   C  691  403    1    0       1095        114   \n",
       "4478   Rps26-201       299   C   T    0  505    0  517       1022        270   \n",
       "66329  Dppa3-201       263   C   T    0  509    0  437        946        114   \n",
       "23498  Rpl15-202       275   A   G  441    0  474    0        915        120   \n",
       "\n",
       "       CDS_stop                     experiment  \n",
       "68514       735  20210607-RNAseq-4cell-cross-C  \n",
       "66330       566  20210607-RNAseq-4cell-cross-C  \n",
       "4478        617  20210607-RNAseq-4cell-cross-C  \n",
       "66329       566  20210607-RNAseq-4cell-cross-C  \n",
       "23498       734  20210607-RNAseq-4cell-cross-C  "
      ]
     },
     "execution_count": 17,
     "metadata": {},
     "output_type": "execute_result"
    }
   ],
   "source": [
    "rnaseq_experiment_dfs[\"20210607-RNAseq-4cell-cross-C\"][:5]"
   ]
  },
  {
   "cell_type": "code",
   "execution_count": null,
   "id": "e680c5e6",
   "metadata": {},
   "outputs": [],
   "source": []
  },
  {
   "cell_type": "markdown",
   "id": "412b9ade",
   "metadata": {},
   "source": [
    "## SNP Bar Charts: A Global Look at the SNPs"
   ]
  },
  {
   "cell_type": "code",
   "execution_count": 18,
   "id": "41ce9bd2",
   "metadata": {},
   "outputs": [],
   "source": [
    "def get_barplot_df(percentage_df, experiments, cds = False):\n",
    "    \"\"\"\n",
    "    If cds=True, then only SNPS comig from CDS are taken\n",
    "    if cds=False\n",
    "    SNPs coming from the ENTIRE transcript are taken\n",
    "    \"\"\"\n",
    "    \n",
    "    reference_alt_percentages = percentage_df\n",
    "    \n",
    "    percentage_dict = {\"Experiment\": experiments,  \"Paternal\": [], \"Maternal\": [], \"Other\": []}\n",
    "    \n",
    "    if cds:\n",
    "        key_prefix = \"cds_\"\n",
    "    else:\n",
    "        key_prefix = \"\"\n",
    "            \n",
    "\n",
    "    for e in experiments:\n",
    "        #print(e)\n",
    "        percentage_dict[\"Maternal\"].append( reference_alt_percentages[e][ key_prefix + \"ref_percentage\"]) \n",
    "        percentage_dict[\"Paternal\"].append( reference_alt_percentages[e][key_prefix + \"alt_percentage\"]) \n",
    "        other = 100 - (reference_alt_percentages[e][key_prefix + \"ref_percentage\"] +\\\n",
    "                       reference_alt_percentages[e][key_prefix + \"alt_percentage\"])\n",
    "        percentage_dict[\"Other\"].append(other)\n",
    "\n",
    "        #print(\"Alt: {:.1f}    Ref: {:.1f} Other: {:.1f}\".format( \\\n",
    "        #                                   reference_alt_percentages[e][key_prefix + \"alt_percentage\"],\n",
    "        #                                   reference_alt_percentages[e][key_prefix + \"ref_percentage\"],\n",
    "        #                                   other                ))\n",
    "    \n",
    "    \n",
    "    p_df = pd.DataFrame(percentage_dict, index=experiments)\n",
    "    \n",
    "    return p_df"
   ]
  },
  {
   "cell_type": "code",
   "execution_count": 19,
   "id": "78177ad4",
   "metadata": {},
   "outputs": [],
   "source": [
    "rnaseq_cds_barplot_df = \\\n",
    "    get_barplot_df(percentage_df = rnaseq_reference_alt_percentages, \n",
    "                   experiments   = rnaseq_all_exps, \n",
    "                   cds           = True)\n",
    "\n",
    "rnaseq_cds_barplot_df.set_index(keys = \"Experiment\", inplace = True)"
   ]
  },
  {
   "cell_type": "code",
   "execution_count": 20,
   "id": "68cf58f1",
   "metadata": {
    "scrolled": false
   },
   "outputs": [
    {
     "data": {
      "image/png": "[encoded data removed]",
      "text/plain": [
       "<Figure size 1152x576 with 1 Axes>"
      ]
     },
     "metadata": {
      "needs_background": "light"
     },
     "output_type": "display_data"
    }
   ],
   "source": [
    "fig  = rnaseq_cds_barplot_df.plot(kind    = \"bar\", \n",
    "                                  stacked = True, \n",
    "                                  title   = \"RNA-SEQ: Percentage of Maternal & Paternal Reads (CDS Only)\");\n",
    "\n",
    "plt.hlines(50, xmin=0, xmax=len(rnaseq_all_exps), linestyle=':', color=\"brown\" );\n",
    "plt.yticks(list(range(0,110, 10) ));"
   ]
  },
  {
   "cell_type": "code",
   "execution_count": 626,
   "id": "c1364d04",
   "metadata": {},
   "outputs": [
    {
     "data": {
      "text/plain": [
       "99.6044638891961"
      ]
     },
     "execution_count": 626,
     "metadata": {},
     "output_type": "execute_result"
    }
   ],
   "source": [
    "np.mean(rnaseq_cds_barplot_df.loc[ rnaseq_mii_exps][\"Maternal\"])"
   ]
  },
  {
   "cell_type": "code",
   "execution_count": 21,
   "id": "9698c8aa",
   "metadata": {},
   "outputs": [],
   "source": [
    "# OUTPUT THE RNASEQ SNP PERCENTAGES FILE\n",
    "rnaseq_snp_percentages_file = os.path.join(OUTPUT_FOLDER, \"rnaseq_snp_percentages.csv\")\n",
    "rnaseq_cds_barplot_df.to_csv(rnaseq_snp_percentages_file)"
   ]
  },
  {
   "cell_type": "code",
   "execution_count": 22,
   "id": "615c50ba",
   "metadata": {},
   "outputs": [
    {
     "name": "stdout",
     "output_type": "stream",
     "text": [
      "Experiment,Paternal,Maternal,Other\r\n",
      "20210607-RNAseq-1cell-cross-A,0.17392267641519885,99.65326243491747,0.1728148886673324\r\n",
      "20210607-RNAseq-1cell-cross-B,0.20528343423225096,99.60154100165107,0.1931755641166717\r\n"
     ]
    }
   ],
   "source": [
    "! cat snp_dataframes/rnaseq_snp_percentages.csv | head -n 3"
   ]
  },
  {
   "cell_type": "code",
   "execution_count": null,
   "id": "78bd53c8",
   "metadata": {},
   "outputs": [],
   "source": []
  },
  {
   "cell_type": "markdown",
   "id": "dd5c4f75",
   "metadata": {},
   "source": [
    "## Ribosome Profiling SNP Calls"
   ]
  },
  {
   "cell_type": "code",
   "execution_count": 25,
   "id": "bd0bd8d9",
   "metadata": {},
   "outputs": [],
   "source": [
    "riboseq_experiment_dfs = dict()\n",
    "\n",
    "for e in riboseq_all_exps:\n",
    "    this_file = os.path.join(INPUT_FOLDER,\"snp_counts_riboseq\", e + \".tsv.gz\")\n",
    "    riboseq_experiment_dfs[e] = get_df(this_file)\n",
    "    riboseq_experiment_dfs[e][\"experiment\"] = e\n",
    "    \n",
    "\n",
    "riboseq_reference_alt_counts = dict()\n",
    "\n",
    "with Pool(4) as p:\n",
    "    riboseq_counts_array = p.map( get_ref_alt_counts, [ riboseq_experiment_dfs[e] for e in riboseq_all_exps ] )\n",
    "    \n",
    "for i in range(len(riboseq_all_exps)):\n",
    "    riboseq_reference_alt_counts[riboseq_all_exps[i]] = riboseq_counts_array[i]\n",
    "\n",
    "riboseq_reference_alt_percentages = dict()\n",
    "\n",
    "for e in riboseq_all_exps:\n",
    "    riboseq_reference_alt_percentages[e] = calculate_ref_alt_percentages(riboseq_reference_alt_counts[e])"
   ]
  },
  {
   "cell_type": "code",
   "execution_count": 26,
   "id": "f829ac6d",
   "metadata": {},
   "outputs": [],
   "source": [
    "#for e in riboseq_all_exps:\n",
    "#    print(e)\n",
    "#    print(\"Alt: {:.1f}    Ref: {:.1f}\".format( riboseq_reference_alt_percentages[e][\"cds_alt_percentage\"],\n",
    "# "
   ]
  },
  {
   "cell_type": "code",
   "execution_count": 27,
   "id": "c74a43f2",
   "metadata": {},
   "outputs": [
    {
     "data": {
      "text/html": [
       "<div>\n",
       "<style scoped>\n",
       "    .dataframe tbody tr th:only-of-type {\n",
       "        vertical-align: middle;\n",
       "    }\n",
       "\n",
       "    .dataframe tbody tr th {\n",
       "        vertical-align: top;\n",
       "    }\n",
       "\n",
       "    .dataframe thead th {\n",
       "        text-align: right;\n",
       "    }\n",
       "</style>\n",
       "<table border=\"1\" class=\"dataframe\">\n",
       "  <thead>\n",
       "    <tr style=\"text-align: right;\">\n",
       "      <th></th>\n",
       "      <th>Paternal</th>\n",
       "      <th>Maternal</th>\n",
       "      <th>Other</th>\n",
       "    </tr>\n",
       "    <tr>\n",
       "      <th>Experiment</th>\n",
       "      <th></th>\n",
       "      <th></th>\n",
       "      <th></th>\n",
       "    </tr>\n",
       "  </thead>\n",
       "  <tbody>\n",
       "    <tr>\n",
       "      <th>20210513-ITP-1cell-cross-50-A</th>\n",
       "      <td>1.256003</td>\n",
       "      <td>96.983130</td>\n",
       "      <td>1.760867</td>\n",
       "    </tr>\n",
       "    <tr>\n",
       "      <th>20210513-ITP-1cell-cross-50-B</th>\n",
       "      <td>0.932685</td>\n",
       "      <td>97.556772</td>\n",
       "      <td>1.510543</td>\n",
       "    </tr>\n",
       "    <tr>\n",
       "      <th>20210513-ITP-1cell-cross-50-C</th>\n",
       "      <td>1.015572</td>\n",
       "      <td>96.750169</td>\n",
       "      <td>2.234259</td>\n",
       "    </tr>\n",
       "    <tr>\n",
       "      <th>20210513-ITP-1cell-cross-50-D</th>\n",
       "      <td>1.171606</td>\n",
       "      <td>96.388697</td>\n",
       "      <td>2.439697</td>\n",
       "    </tr>\n",
       "    <tr>\n",
       "      <th>20210513-ITP-1cell-cross-50-E</th>\n",
       "      <td>1.323877</td>\n",
       "      <td>96.028369</td>\n",
       "      <td>2.647754</td>\n",
       "    </tr>\n",
       "    <tr>\n",
       "      <th>20210513-ITP-2cell-cross-50-B</th>\n",
       "      <td>11.798689</td>\n",
       "      <td>86.523720</td>\n",
       "      <td>1.677591</td>\n",
       "    </tr>\n",
       "    <tr>\n",
       "      <th>20210513-ITP-2cell-cross-50-C</th>\n",
       "      <td>4.806034</td>\n",
       "      <td>93.017241</td>\n",
       "      <td>2.176724</td>\n",
       "    </tr>\n",
       "    <tr>\n",
       "      <th>20210513-ITP-2cell-cross-50-F</th>\n",
       "      <td>7.081090</td>\n",
       "      <td>90.438897</td>\n",
       "      <td>2.480013</td>\n",
       "    </tr>\n",
       "    <tr>\n",
       "      <th>20210513-ITP-4cell-cross-50-B</th>\n",
       "      <td>43.879685</td>\n",
       "      <td>52.678141</td>\n",
       "      <td>3.442175</td>\n",
       "    </tr>\n",
       "    <tr>\n",
       "      <th>20210513-ITP-4cell-cross-50-C</th>\n",
       "      <td>43.549352</td>\n",
       "      <td>51.525424</td>\n",
       "      <td>4.925224</td>\n",
       "    </tr>\n",
       "    <tr>\n",
       "      <th>20210513-ITP-4cell-cross-50-D</th>\n",
       "      <td>46.414370</td>\n",
       "      <td>51.611134</td>\n",
       "      <td>1.974496</td>\n",
       "    </tr>\n",
       "    <tr>\n",
       "      <th>20210513-ITP-8cell-cross-50-A</th>\n",
       "      <td>45.953381</td>\n",
       "      <td>52.323730</td>\n",
       "      <td>1.722890</td>\n",
       "    </tr>\n",
       "    <tr>\n",
       "      <th>20210513-ITP-8cell-cross-50-B</th>\n",
       "      <td>48.623637</td>\n",
       "      <td>49.635323</td>\n",
       "      <td>1.741040</td>\n",
       "    </tr>\n",
       "    <tr>\n",
       "      <th>20210513-ITP-8cell-cross-50-C</th>\n",
       "      <td>47.595459</td>\n",
       "      <td>50.660475</td>\n",
       "      <td>1.744066</td>\n",
       "    </tr>\n",
       "    <tr>\n",
       "      <th>20210513-ITP-8cell-cross-50-D</th>\n",
       "      <td>45.276957</td>\n",
       "      <td>52.898085</td>\n",
       "      <td>1.824958</td>\n",
       "    </tr>\n",
       "    <tr>\n",
       "      <th>20210301-ITP-MII-25-B</th>\n",
       "      <td>1.022353</td>\n",
       "      <td>97.088893</td>\n",
       "      <td>1.888754</td>\n",
       "    </tr>\n",
       "    <tr>\n",
       "      <th>20210301-ITP-MII-50-A</th>\n",
       "      <td>0.939212</td>\n",
       "      <td>97.756327</td>\n",
       "      <td>1.304461</td>\n",
       "    </tr>\n",
       "    <tr>\n",
       "      <th>20210301-ITP-MII-50-B</th>\n",
       "      <td>0.845588</td>\n",
       "      <td>97.818627</td>\n",
       "      <td>1.335784</td>\n",
       "    </tr>\n",
       "    <tr>\n",
       "      <th>20210318-ITP-MII-50-B</th>\n",
       "      <td>1.054325</td>\n",
       "      <td>97.355254</td>\n",
       "      <td>1.590422</td>\n",
       "    </tr>\n",
       "    <tr>\n",
       "      <th>20210614-ITP-MII-50-D</th>\n",
       "      <td>1.105946</td>\n",
       "      <td>96.634076</td>\n",
       "      <td>2.259978</td>\n",
       "    </tr>\n",
       "    <tr>\n",
       "      <th>20210614-ITP-GV-50-A</th>\n",
       "      <td>0.912080</td>\n",
       "      <td>97.380422</td>\n",
       "      <td>1.707498</td>\n",
       "    </tr>\n",
       "    <tr>\n",
       "      <th>20210614-ITP-GV-50-B</th>\n",
       "      <td>1.399177</td>\n",
       "      <td>96.694102</td>\n",
       "      <td>1.906722</td>\n",
       "    </tr>\n",
       "    <tr>\n",
       "      <th>20210614-ITP-GV-50-C</th>\n",
       "      <td>1.253828</td>\n",
       "      <td>95.855666</td>\n",
       "      <td>2.890505</td>\n",
       "    </tr>\n",
       "    <tr>\n",
       "      <th>20210614-ITP-GV-50-D</th>\n",
       "      <td>1.847503</td>\n",
       "      <td>94.128699</td>\n",
       "      <td>4.023798</td>\n",
       "    </tr>\n",
       "    <tr>\n",
       "      <th>20210614-ITP-GV-50-E</th>\n",
       "      <td>0.952071</td>\n",
       "      <td>97.078688</td>\n",
       "      <td>1.969241</td>\n",
       "    </tr>\n",
       "    <tr>\n",
       "      <th>20210614-ITP-GV-50-F</th>\n",
       "      <td>1.026409</td>\n",
       "      <td>97.391211</td>\n",
       "      <td>1.582380</td>\n",
       "    </tr>\n",
       "  </tbody>\n",
       "</table>\n",
       "</div>"
      ],
      "text/plain": [
       "                                Paternal   Maternal     Other\n",
       "Experiment                                                   \n",
       "20210513-ITP-1cell-cross-50-A   1.256003  96.983130  1.760867\n",
       "20210513-ITP-1cell-cross-50-B   0.932685  97.556772  1.510543\n",
       "20210513-ITP-1cell-cross-50-C   1.015572  96.750169  2.234259\n",
       "20210513-ITP-1cell-cross-50-D   1.171606  96.388697  2.439697\n",
       "20210513-ITP-1cell-cross-50-E   1.323877  96.028369  2.647754\n",
       "20210513-ITP-2cell-cross-50-B  11.798689  86.523720  1.677591\n",
       "20210513-ITP-2cell-cross-50-C   4.806034  93.017241  2.176724\n",
       "20210513-ITP-2cell-cross-50-F   7.081090  90.438897  2.480013\n",
       "20210513-ITP-4cell-cross-50-B  43.879685  52.678141  3.442175\n",
       "20210513-ITP-4cell-cross-50-C  43.549352  51.525424  4.925224\n",
       "20210513-ITP-4cell-cross-50-D  46.414370  51.611134  1.974496\n",
       "20210513-ITP-8cell-cross-50-A  45.953381  52.323730  1.722890\n",
       "20210513-ITP-8cell-cross-50-B  48.623637  49.635323  1.741040\n",
       "20210513-ITP-8cell-cross-50-C  47.595459  50.660475  1.744066\n",
       "20210513-ITP-8cell-cross-50-D  45.276957  52.898085  1.824958\n",
       "20210301-ITP-MII-25-B           1.022353  97.088893  1.888754\n",
       "20210301-ITP-MII-50-A           0.939212  97.756327  1.304461\n",
       "20210301-ITP-MII-50-B           0.845588  97.818627  1.335784\n",
       "20210318-ITP-MII-50-B           1.054325  97.355254  1.590422\n",
       "20210614-ITP-MII-50-D           1.105946  96.634076  2.259978\n",
       "20210614-ITP-GV-50-A            0.912080  97.380422  1.707498\n",
       "20210614-ITP-GV-50-B            1.399177  96.694102  1.906722\n",
       "20210614-ITP-GV-50-C            1.253828  95.855666  2.890505\n",
       "20210614-ITP-GV-50-D            1.847503  94.128699  4.023798\n",
       "20210614-ITP-GV-50-E            0.952071  97.078688  1.969241\n",
       "20210614-ITP-GV-50-F            1.026409  97.391211  1.582380"
      ]
     },
     "execution_count": 27,
     "metadata": {},
     "output_type": "execute_result"
    }
   ],
   "source": [
    "riboseq_barplot_cds_df = \\\n",
    "    get_barplot_df(percentage_df = riboseq_reference_alt_percentages, \n",
    "                   experiments   = riboseq_all_exps, \n",
    "                   cds           = True)\n",
    "\n",
    "riboseq_barplot_cds_df.set_index(keys = \"Experiment\")\n",
    "\n"
   ]
  },
  {
   "cell_type": "code",
   "execution_count": 28,
   "id": "13553748",
   "metadata": {},
   "outputs": [
    {
     "data": {
      "image/png": "[encoded data removed]",
      "text/plain": [
       "<Figure size 1152x576 with 1 Axes>"
      ]
     },
     "metadata": {
      "needs_background": "light"
     },
     "output_type": "display_data"
    }
   ],
   "source": [
    "fig  = riboseq_barplot_cds_df.plot(kind    = \"bar\", \n",
    "                                  stacked = True, \n",
    "                                  title   = \"Ribo Profiling: Percentage of Maternal & Paternal Reads (CDS Only)\");\n",
    "\n",
    "plt.hlines(50, xmin=0, xmax=len(riboseq_all_exps), linestyle=':', color=\"brown\" );\n",
    "plt.hlines(1, xmin=0, xmax=len(riboseq_all_exps), linestyle=':', color=\"cyan\" );\n",
    "plt.yticks(list(range(0,110, 10) ));"
   ]
  },
  {
   "cell_type": "code",
   "execution_count": null,
   "id": "8420b674",
   "metadata": {},
   "outputs": [],
   "source": []
  },
  {
   "cell_type": "code",
   "execution_count": 618,
   "id": "d28c3f40",
   "metadata": {},
   "outputs": [
    {
     "data": {
      "text/plain": [
       "97.33063531080667"
      ]
     },
     "execution_count": 618,
     "metadata": {},
     "output_type": "execute_result"
    }
   ],
   "source": [
    "np.mean(riboseq_barplot_cds_df.loc[ riboseq_mii_exps][\"Maternal\"]) "
   ]
  },
  {
   "cell_type": "code",
   "execution_count": 621,
   "id": "c465a2bc",
   "metadata": {},
   "outputs": [
    {
     "data": {
      "text/plain": [
       "7.895271139261166"
      ]
     },
     "execution_count": 621,
     "metadata": {},
     "output_type": "execute_result"
    }
   ],
   "source": [
    "np.mean(riboseq_barplot_cds_df.loc[ riboseq_two_cell_exps][\"Paternal\"]) "
   ]
  },
  {
   "cell_type": "code",
   "execution_count": 623,
   "id": "8debaf54",
   "metadata": {},
   "outputs": [
    {
     "data": {
      "text/plain": [
       "46.862358478955315"
      ]
     },
     "execution_count": 623,
     "metadata": {},
     "output_type": "execute_result"
    }
   ],
   "source": [
    "np.mean(riboseq_barplot_cds_df.loc[ riboseq_eigth_cell_exps][\"Paternal\"]) "
   ]
  },
  {
   "cell_type": "code",
   "execution_count": 624,
   "id": "055f9864",
   "metadata": {},
   "outputs": [
    {
     "data": {
      "text/plain": [
       "44.614468874450715"
      ]
     },
     "execution_count": 624,
     "metadata": {},
     "output_type": "execute_result"
    }
   ],
   "source": [
    "np.mean(riboseq_barplot_cds_df.loc[ riboseq_four_cell_exps][\"Paternal\"]) "
   ]
  },
  {
   "cell_type": "code",
   "execution_count": null,
   "id": "2606a0e1",
   "metadata": {},
   "outputs": [],
   "source": []
  },
  {
   "cell_type": "code",
   "execution_count": 29,
   "id": "eb9568c9",
   "metadata": {},
   "outputs": [
    {
     "data": {
      "text/html": [
       "<div>\n",
       "<style scoped>\n",
       "    .dataframe tbody tr th:only-of-type {\n",
       "        vertical-align: middle;\n",
       "    }\n",
       "\n",
       "    .dataframe tbody tr th {\n",
       "        vertical-align: top;\n",
       "    }\n",
       "\n",
       "    .dataframe thead th {\n",
       "        text-align: right;\n",
       "    }\n",
       "</style>\n",
       "<table border=\"1\" class=\"dataframe\">\n",
       "  <thead>\n",
       "    <tr style=\"text-align: right;\">\n",
       "      <th></th>\n",
       "      <th>Experiment</th>\n",
       "      <th>Paternal</th>\n",
       "      <th>Maternal</th>\n",
       "      <th>Other</th>\n",
       "    </tr>\n",
       "  </thead>\n",
       "  <tbody>\n",
       "    <tr>\n",
       "      <th>20210513-ITP-1cell-cross-50-A</th>\n",
       "      <td>20210513-ITP-1cell-cross-50-A</td>\n",
       "      <td>1.256003</td>\n",
       "      <td>96.983130</td>\n",
       "      <td>1.760867</td>\n",
       "    </tr>\n",
       "    <tr>\n",
       "      <th>20210513-ITP-1cell-cross-50-B</th>\n",
       "      <td>20210513-ITP-1cell-cross-50-B</td>\n",
       "      <td>0.932685</td>\n",
       "      <td>97.556772</td>\n",
       "      <td>1.510543</td>\n",
       "    </tr>\n",
       "  </tbody>\n",
       "</table>\n",
       "</div>"
      ],
      "text/plain": [
       "                                                  Experiment  Paternal  \\\n",
       "20210513-ITP-1cell-cross-50-A  20210513-ITP-1cell-cross-50-A  1.256003   \n",
       "20210513-ITP-1cell-cross-50-B  20210513-ITP-1cell-cross-50-B  0.932685   \n",
       "\n",
       "                                Maternal     Other  \n",
       "20210513-ITP-1cell-cross-50-A  96.983130  1.760867  \n",
       "20210513-ITP-1cell-cross-50-B  97.556772  1.510543  "
      ]
     },
     "execution_count": 29,
     "metadata": {},
     "output_type": "execute_result"
    }
   ],
   "source": [
    "riboseq_snp_percentages_file = os.path.join(OUTPUT_FOLDER, \"riboseq_snp_percentages.csv\")\n",
    "riboseq_barplot_cds_df.to_csv(riboseq_snp_percentages_file)\n",
    "riboseq_barplot_cds_df[:2]"
   ]
  },
  {
   "cell_type": "code",
   "execution_count": 30,
   "id": "f69497dc",
   "metadata": {},
   "outputs": [
    {
     "data": {
      "text/html": [
       "<div>\n",
       "<style scoped>\n",
       "    .dataframe tbody tr th:only-of-type {\n",
       "        vertical-align: middle;\n",
       "    }\n",
       "\n",
       "    .dataframe tbody tr th {\n",
       "        vertical-align: top;\n",
       "    }\n",
       "\n",
       "    .dataframe thead th {\n",
       "        text-align: right;\n",
       "    }\n",
       "</style>\n",
       "<table border=\"1\" class=\"dataframe\">\n",
       "  <thead>\n",
       "    <tr style=\"text-align: right;\">\n",
       "      <th></th>\n",
       "      <th>ref_count</th>\n",
       "      <th>alt_count</th>\n",
       "      <th>total_count</th>\n",
       "      <th>cds_ref_count</th>\n",
       "      <th>cds_alt_count</th>\n",
       "      <th>cds_total_count</th>\n",
       "    </tr>\n",
       "  </thead>\n",
       "  <tbody>\n",
       "    <tr>\n",
       "      <th>20210513-ITP-1cell-cross-50-A</th>\n",
       "      <td>7876</td>\n",
       "      <td>102</td>\n",
       "      <td>8121</td>\n",
       "      <td>7876</td>\n",
       "      <td>102</td>\n",
       "      <td>8121</td>\n",
       "    </tr>\n",
       "    <tr>\n",
       "      <th>20210513-ITP-1cell-cross-50-B</th>\n",
       "      <td>9623</td>\n",
       "      <td>92</td>\n",
       "      <td>9864</td>\n",
       "      <td>9623</td>\n",
       "      <td>92</td>\n",
       "      <td>9864</td>\n",
       "    </tr>\n",
       "  </tbody>\n",
       "</table>\n",
       "</div>"
      ],
      "text/plain": [
       "                               ref_count  alt_count  total_count  \\\n",
       "20210513-ITP-1cell-cross-50-A       7876        102         8121   \n",
       "20210513-ITP-1cell-cross-50-B       9623         92         9864   \n",
       "\n",
       "                               cds_ref_count  cds_alt_count  cds_total_count  \n",
       "20210513-ITP-1cell-cross-50-A           7876            102             8121  \n",
       "20210513-ITP-1cell-cross-50-B           9623             92             9864  "
      ]
     },
     "execution_count": 30,
     "metadata": {},
     "output_type": "execute_result"
    }
   ],
   "source": [
    "riboseq_snp_count_df   = pd.DataFrame.from_dict(riboseq_reference_alt_counts).transpose()\n",
    "riboseq_snp_count_file = os.path.join(OUTPUT_FOLDER, \"riboseq_experimentwise_snp_counts.csv\")\n",
    "riboseq_snp_count_df.to_csv(riboseq_snp_count_file)\n",
    "\n",
    "riboseq_snp_count_df[:2]"
   ]
  },
  {
   "cell_type": "code",
   "execution_count": null,
   "id": "458253c0",
   "metadata": {},
   "outputs": [],
   "source": []
  },
  {
   "cell_type": "markdown",
   "id": "3345f003",
   "metadata": {},
   "source": [
    "## SNP Data at Highest Detail\n",
    "\n",
    "We combine all of the SNP data into one dataframe. \n",
    "For each experiment, transcript and SNP position there is a separate row with SNP information.\n",
    "Note that, in our context, reference (REF) corresponds to maternal strain and alternative (ALT) corresponds to paternal strain."
   ]
  },
  {
   "cell_type": "code",
   "execution_count": null,
   "id": "1250bd7b",
   "metadata": {},
   "outputs": [],
   "source": []
  },
  {
   "cell_type": "code",
   "execution_count": 31,
   "id": "c631c580",
   "metadata": {},
   "outputs": [],
   "source": [
    "def find_maternal_paternal_snps(this_df):\n",
    "    maternal_counts = list()\n",
    "    paternal_counts = list()\n",
    "    \n",
    "    \n",
    "    for i, contents in this_df.iterrows():\n",
    "        this_maternal = contents[ contents[\"REF\"] ]\n",
    "        this_paternal = contents[ contents[\"ALT\"] ]\n",
    "        paternal_counts.append(this_paternal)\n",
    "        maternal_counts.append(this_maternal)\n",
    "        \n",
    "    this_df[\"maternal\"] = maternal_counts\n",
    "    this_df[\"paternal\"] = paternal_counts\n",
    "    \n",
    "    return this_df\n",
    "\n"
   ]
  },
  {
   "cell_type": "code",
   "execution_count": 32,
   "id": "1e962201",
   "metadata": {},
   "outputs": [],
   "source": [
    "# Find ribosome profiling maternal / poaternal counts \n",
    "\n",
    "with Pool(4) as p:\n",
    "    riboseq_detailed_count_dfs = p.map( find_maternal_paternal_snps, list(riboseq_experiment_dfs.values()) )"
   ]
  },
  {
   "cell_type": "code",
   "execution_count": 33,
   "id": "d217d2af",
   "metadata": {},
   "outputs": [],
   "source": [
    "# Find rna-seq maternal / poaternal counts \n",
    "\n",
    "with Pool(4) as p:\n",
    "    rnaseq_detailed_count_dfs = p.map( find_maternal_paternal_snps, list(rnaseq_experiment_dfs.values()) )"
   ]
  },
  {
   "cell_type": "code",
   "execution_count": 34,
   "id": "a194d915",
   "metadata": {},
   "outputs": [],
   "source": [
    "def combine_snp_dfs_into_on_df(df_list):\n",
    "    \n",
    "    res_columns = [\"experiment\", \"transcript\", \"position\", \"paternal\",\\\n",
    "                   \"maternal\", \"REF\", \"ALT\", \"A\", \"C\", \"G\", \"T\"]\n",
    "    \n",
    "    result_df   =  df_list[0].copy()\n",
    "    \n",
    "    for i in range(1, len(df_list)):\n",
    "        result_df = result_df.append( df_list[i] )\n",
    "        \n",
    "    return result_df[res_columns]"
   ]
  },
  {
   "cell_type": "code",
   "execution_count": 35,
   "id": "69b5c07e",
   "metadata": {},
   "outputs": [],
   "source": [
    "combined_riboseq_snp_df = combine_snp_dfs_into_on_df(riboseq_detailed_count_dfs)\n",
    "combined_rnaseq_snp_df  = combine_snp_dfs_into_on_df(rnaseq_detailed_count_dfs)"
   ]
  },
  {
   "cell_type": "code",
   "execution_count": 36,
   "id": "00e9f5bd",
   "metadata": {},
   "outputs": [],
   "source": [
    "high_res_riboseq_snp_file = os.path.join(OUTPUT_FOLDER, \"riboseq_detailed_snps.csv.gz\")\n",
    "combined_riboseq_snp_df.to_csv( high_res_riboseq_snp_file, index = False )\n",
    "\n",
    "high_res_rnaseq_snp_file = os.path.join(OUTPUT_FOLDER, \"rnaseq_detailed_snps.csv.gz\")\n",
    "combined_rnaseq_snp_df.to_csv( high_res_rnaseq_snp_file, index = False )"
   ]
  },
  {
   "cell_type": "code",
   "execution_count": null,
   "id": "680f700c",
   "metadata": {},
   "outputs": [],
   "source": []
  },
  {
   "cell_type": "code",
   "execution_count": 102,
   "id": "813b890b",
   "metadata": {},
   "outputs": [
    {
     "data": {
      "text/html": [
       "<div>\n",
       "<style scoped>\n",
       "    .dataframe tbody tr th:only-of-type {\n",
       "        vertical-align: middle;\n",
       "    }\n",
       "\n",
       "    .dataframe tbody tr th {\n",
       "        vertical-align: top;\n",
       "    }\n",
       "\n",
       "    .dataframe thead th {\n",
       "        text-align: right;\n",
       "    }\n",
       "</style>\n",
       "<table border=\"1\" class=\"dataframe\">\n",
       "  <thead>\n",
       "    <tr style=\"text-align: right;\">\n",
       "      <th></th>\n",
       "      <th>experiment</th>\n",
       "      <th>transcript</th>\n",
       "      <th>position</th>\n",
       "      <th>paternal</th>\n",
       "      <th>maternal</th>\n",
       "      <th>REF</th>\n",
       "      <th>ALT</th>\n",
       "      <th>A</th>\n",
       "      <th>C</th>\n",
       "      <th>G</th>\n",
       "      <th>T</th>\n",
       "    </tr>\n",
       "  </thead>\n",
       "  <tbody>\n",
       "    <tr>\n",
       "      <th>21047</th>\n",
       "      <td>20210513-ITP-1cell-cross-50-A</td>\n",
       "      <td>Spin1-201</td>\n",
       "      <td>848</td>\n",
       "      <td>0</td>\n",
       "      <td>139</td>\n",
       "      <td>C</td>\n",
       "      <td>G</td>\n",
       "      <td>0</td>\n",
       "      <td>139</td>\n",
       "      <td>0</td>\n",
       "      <td>0</td>\n",
       "    </tr>\n",
       "    <tr>\n",
       "      <th>22356</th>\n",
       "      <td>20210513-ITP-1cell-cross-50-A</td>\n",
       "      <td>Zbed3-202</td>\n",
       "      <td>471</td>\n",
       "      <td>0</td>\n",
       "      <td>124</td>\n",
       "      <td>T</td>\n",
       "      <td>C</td>\n",
       "      <td>0</td>\n",
       "      <td>0</td>\n",
       "      <td>0</td>\n",
       "      <td>124</td>\n",
       "    </tr>\n",
       "    <tr>\n",
       "      <th>22358</th>\n",
       "      <td>20210513-ITP-1cell-cross-50-A</td>\n",
       "      <td>Zbed3-202</td>\n",
       "      <td>707</td>\n",
       "      <td>0</td>\n",
       "      <td>100</td>\n",
       "      <td>A</td>\n",
       "      <td>G</td>\n",
       "      <td>100</td>\n",
       "      <td>0</td>\n",
       "      <td>0</td>\n",
       "      <td>0</td>\n",
       "    </tr>\n",
       "    <tr>\n",
       "      <th>23711</th>\n",
       "      <td>20210513-ITP-1cell-cross-50-A</td>\n",
       "      <td>E330034G19Rik-203</td>\n",
       "      <td>257</td>\n",
       "      <td>0</td>\n",
       "      <td>74</td>\n",
       "      <td>A</td>\n",
       "      <td>C</td>\n",
       "      <td>74</td>\n",
       "      <td>0</td>\n",
       "      <td>0</td>\n",
       "      <td>0</td>\n",
       "    </tr>\n",
       "    <tr>\n",
       "      <th>22354</th>\n",
       "      <td>20210513-ITP-1cell-cross-50-A</td>\n",
       "      <td>Zbed3-202</td>\n",
       "      <td>320</td>\n",
       "      <td>4</td>\n",
       "      <td>52</td>\n",
       "      <td>T</td>\n",
       "      <td>G</td>\n",
       "      <td>4</td>\n",
       "      <td>0</td>\n",
       "      <td>4</td>\n",
       "      <td>52</td>\n",
       "    </tr>\n",
       "    <tr>\n",
       "      <th>...</th>\n",
       "      <td>...</td>\n",
       "      <td>...</td>\n",
       "      <td>...</td>\n",
       "      <td>...</td>\n",
       "      <td>...</td>\n",
       "      <td>...</td>\n",
       "      <td>...</td>\n",
       "      <td>...</td>\n",
       "      <td>...</td>\n",
       "      <td>...</td>\n",
       "      <td>...</td>\n",
       "    </tr>\n",
       "    <tr>\n",
       "      <th>29124</th>\n",
       "      <td>20210614-ITP-GV-50-F</td>\n",
       "      <td>Slc4a8-201</td>\n",
       "      <td>3090</td>\n",
       "      <td>0</td>\n",
       "      <td>0</td>\n",
       "      <td>A</td>\n",
       "      <td>G</td>\n",
       "      <td>0</td>\n",
       "      <td>0</td>\n",
       "      <td>0</td>\n",
       "      <td>0</td>\n",
       "    </tr>\n",
       "    <tr>\n",
       "      <th>29122</th>\n",
       "      <td>20210614-ITP-GV-50-F</td>\n",
       "      <td>Slc4a8-201</td>\n",
       "      <td>2048</td>\n",
       "      <td>0</td>\n",
       "      <td>0</td>\n",
       "      <td>T</td>\n",
       "      <td>A</td>\n",
       "      <td>0</td>\n",
       "      <td>0</td>\n",
       "      <td>0</td>\n",
       "      <td>0</td>\n",
       "    </tr>\n",
       "    <tr>\n",
       "      <th>29121</th>\n",
       "      <td>20210614-ITP-GV-50-F</td>\n",
       "      <td>Slc4a8-201</td>\n",
       "      <td>1791</td>\n",
       "      <td>0</td>\n",
       "      <td>0</td>\n",
       "      <td>G</td>\n",
       "      <td>A</td>\n",
       "      <td>0</td>\n",
       "      <td>0</td>\n",
       "      <td>0</td>\n",
       "      <td>0</td>\n",
       "    </tr>\n",
       "    <tr>\n",
       "      <th>29120</th>\n",
       "      <td>20210614-ITP-GV-50-F</td>\n",
       "      <td>Slc4a8-201</td>\n",
       "      <td>1494</td>\n",
       "      <td>0</td>\n",
       "      <td>0</td>\n",
       "      <td>G</td>\n",
       "      <td>A</td>\n",
       "      <td>0</td>\n",
       "      <td>0</td>\n",
       "      <td>0</td>\n",
       "      <td>0</td>\n",
       "    </tr>\n",
       "    <tr>\n",
       "      <th>85338</th>\n",
       "      <td>20210614-ITP-GV-50-F</td>\n",
       "      <td>Mid1-205</td>\n",
       "      <td>1745</td>\n",
       "      <td>0</td>\n",
       "      <td>0</td>\n",
       "      <td>A</td>\n",
       "      <td>G</td>\n",
       "      <td>0</td>\n",
       "      <td>0</td>\n",
       "      <td>0</td>\n",
       "      <td>0</td>\n",
       "    </tr>\n",
       "  </tbody>\n",
       "</table>\n",
       "<p>2218814 rows × 11 columns</p>\n",
       "</div>"
      ],
      "text/plain": [
       "                          experiment         transcript  position  paternal  \\\n",
       "21047  20210513-ITP-1cell-cross-50-A          Spin1-201       848         0   \n",
       "22356  20210513-ITP-1cell-cross-50-A          Zbed3-202       471         0   \n",
       "22358  20210513-ITP-1cell-cross-50-A          Zbed3-202       707         0   \n",
       "23711  20210513-ITP-1cell-cross-50-A  E330034G19Rik-203       257         0   \n",
       "22354  20210513-ITP-1cell-cross-50-A          Zbed3-202       320         4   \n",
       "...                              ...                ...       ...       ...   \n",
       "29124           20210614-ITP-GV-50-F         Slc4a8-201      3090         0   \n",
       "29122           20210614-ITP-GV-50-F         Slc4a8-201      2048         0   \n",
       "29121           20210614-ITP-GV-50-F         Slc4a8-201      1791         0   \n",
       "29120           20210614-ITP-GV-50-F         Slc4a8-201      1494         0   \n",
       "85338           20210614-ITP-GV-50-F           Mid1-205      1745         0   \n",
       "\n",
       "       maternal REF ALT    A    C  G    T  \n",
       "21047       139   C   G    0  139  0    0  \n",
       "22356       124   T   C    0    0  0  124  \n",
       "22358       100   A   G  100    0  0    0  \n",
       "23711        74   A   C   74    0  0    0  \n",
       "22354        52   T   G    4    0  4   52  \n",
       "...         ...  ..  ..  ...  ... ..  ...  \n",
       "29124         0   A   G    0    0  0    0  \n",
       "29122         0   T   A    0    0  0    0  \n",
       "29121         0   G   A    0    0  0    0  \n",
       "29120         0   G   A    0    0  0    0  \n",
       "85338         0   A   G    0    0  0    0  \n",
       "\n",
       "[2218814 rows x 11 columns]"
      ]
     },
     "execution_count": 102,
     "metadata": {},
     "output_type": "execute_result"
    }
   ],
   "source": [
    "combined_riboseq_snp_df"
   ]
  },
  {
   "cell_type": "code",
   "execution_count": null,
   "id": "50504f5a",
   "metadata": {},
   "outputs": [],
   "source": []
  },
  {
   "cell_type": "markdown",
   "id": "98418cc0",
   "metadata": {},
   "source": [
    "## Aggregating SNP Counts\n",
    "\n",
    "We sum SNPs accross replicates"
   ]
  },
  {
   "cell_type": "code",
   "execution_count": 37,
   "id": "ded20cf4",
   "metadata": {},
   "outputs": [],
   "source": [
    "def add_two_snp_dfs(df_1, df_2):\n",
    "    \"\"\"\n",
    "    This is the helper function to add dataframes\n",
    "    \n",
    "    Adds two dataframes and produces one that is compatible with other SNP dataframes\n",
    "    (Have the same column names)\n",
    "    \"\"\"\n",
    "    \n",
    "    index_col_name = \"trans_pos\"\n",
    "    \n",
    "    zipped_df1_transcripts_df1_positions = zip( df_1[\"transcript\"], df_1[\"position\"] )\n",
    "    zipped_df2_transcripts_df2_positions = zip( df_2[\"transcript\"], df_2[\"position\"] )\n",
    "    \n",
    "    df1_index_vec = list( map( lambda x: str(x[0]) + \"_\" + str(x[1]), zipped_df1_transcripts_df1_positions ) )\n",
    "    df2_index_vec = list( map( lambda x: str(x[0]) + \"_\" + str(x[1]), zipped_df2_transcripts_df2_positions ) )\n",
    "    \n",
    "    df_1_indexed = df_1.copy()\n",
    "    df_2_indexed = df_2.copy()\n",
    "    \n",
    "    df_1_indexed[index_col_name] = df1_index_vec\n",
    "    df_2_indexed[index_col_name] = df2_index_vec\n",
    "    \n",
    "    df_1_indexed.set_index(index_col_name, inplace = True)\n",
    "    df_2_indexed.set_index(index_col_name, inplace = True)\n",
    "    \n",
    "    merged_df = df_1_indexed.merge( df_2_indexed, on = [\"trans_pos\"] )\n",
    "    \n",
    "    df_dict = {\n",
    "        #\"trnas_pos\":  merged_df.index,\n",
    "        \"transcript\": merged_df[\"transcript_x\"],\n",
    "        \"position\":   merged_df[\"position_x\"],\n",
    "        \"REF\":        merged_df[\"REF_x\"],\n",
    "        \"ALT\":        merged_df[\"ALT_x\"],\n",
    "        \"A\":          np.add(merged_df[\"A_x\"] , merged_df[\"A_y\"]),\n",
    "        \"C\":          np.add(merged_df[\"C_x\"] , merged_df[\"C_y\"]),\n",
    "        \"G\":          np.add(merged_df[\"G_x\"] , merged_df[\"G_y\"]),\n",
    "        \"T\":          np.add(merged_df[\"T_x\"] , merged_df[\"T_y\"]),\n",
    "        \"snp_total\":  np.add(merged_df[\"snp_total_x\"] , merged_df[\"snp_total_y\"]),\n",
    "        \"CDS_start\":  merged_df[\"CDS_start_x\"],\n",
    "        \"CDS_stop\":  merged_df[\"CDS_stop_x\"]     \n",
    "    }\n",
    "    \n",
    "    result_df = pd.DataFrame.from_dict(df_dict)\n",
    "    \n",
    "    return (result_df)\n",
    "\n",
    "\n",
    "##############################################################################\n",
    "\n",
    "\n",
    "def add_snp_dfs(df_list):\n",
    "    \"\"\"\n",
    "    THIS IS THE MAIN FUNCTION TO CALL!!!\n",
    "    Adds a list of dataframes containing SNPS\n",
    "    \"\"\"\n",
    "    result_df =  reduce( lambda x, y : add_two_snp_dfs(x,y), df_list  )\n",
    "    result_df.sort_values(by = ['snp_total'], ascending=False, inplace=True)\n",
    "    return result_df"
   ]
  },
  {
   "cell_type": "code",
   "execution_count": 38,
   "id": "1cd304b4",
   "metadata": {},
   "outputs": [
    {
     "data": {
      "text/html": [
       "<div>\n",
       "<style scoped>\n",
       "    .dataframe tbody tr th:only-of-type {\n",
       "        vertical-align: middle;\n",
       "    }\n",
       "\n",
       "    .dataframe tbody tr th {\n",
       "        vertical-align: top;\n",
       "    }\n",
       "\n",
       "    .dataframe thead th {\n",
       "        text-align: right;\n",
       "    }\n",
       "</style>\n",
       "<table border=\"1\" class=\"dataframe\">\n",
       "  <thead>\n",
       "    <tr style=\"text-align: right;\">\n",
       "      <th></th>\n",
       "      <th>transcript</th>\n",
       "      <th>position</th>\n",
       "      <th>REF</th>\n",
       "      <th>ALT</th>\n",
       "      <th>A</th>\n",
       "      <th>C</th>\n",
       "      <th>G</th>\n",
       "      <th>T</th>\n",
       "      <th>snp_total</th>\n",
       "      <th>CDS_start</th>\n",
       "      <th>CDS_stop</th>\n",
       "    </tr>\n",
       "    <tr>\n",
       "      <th>trans_pos</th>\n",
       "      <th></th>\n",
       "      <th></th>\n",
       "      <th></th>\n",
       "      <th></th>\n",
       "      <th></th>\n",
       "      <th></th>\n",
       "      <th></th>\n",
       "      <th></th>\n",
       "      <th></th>\n",
       "      <th></th>\n",
       "      <th></th>\n",
       "    </tr>\n",
       "  </thead>\n",
       "  <tbody>\n",
       "    <tr>\n",
       "      <th>Spin1-201_848</th>\n",
       "      <td>Spin1-201</td>\n",
       "      <td>848</td>\n",
       "      <td>C</td>\n",
       "      <td>G</td>\n",
       "      <td>0</td>\n",
       "      <td>320</td>\n",
       "      <td>2</td>\n",
       "      <td>1</td>\n",
       "      <td>323</td>\n",
       "      <td>261</td>\n",
       "      <td>1049</td>\n",
       "    </tr>\n",
       "    <tr>\n",
       "      <th>Zbed3-202_471</th>\n",
       "      <td>Zbed3-202</td>\n",
       "      <td>471</td>\n",
       "      <td>T</td>\n",
       "      <td>C</td>\n",
       "      <td>0</td>\n",
       "      <td>0</td>\n",
       "      <td>0</td>\n",
       "      <td>217</td>\n",
       "      <td>217</td>\n",
       "      <td>174</td>\n",
       "      <td>860</td>\n",
       "    </tr>\n",
       "    <tr>\n",
       "      <th>Zbed3-202_707</th>\n",
       "      <td>Zbed3-202</td>\n",
       "      <td>707</td>\n",
       "      <td>A</td>\n",
       "      <td>G</td>\n",
       "      <td>218</td>\n",
       "      <td>0</td>\n",
       "      <td>0</td>\n",
       "      <td>0</td>\n",
       "      <td>218</td>\n",
       "      <td>174</td>\n",
       "      <td>860</td>\n",
       "    </tr>\n",
       "    <tr>\n",
       "      <th>E330034G19Rik-203_257</th>\n",
       "      <td>E330034G19Rik-203</td>\n",
       "      <td>257</td>\n",
       "      <td>A</td>\n",
       "      <td>C</td>\n",
       "      <td>125</td>\n",
       "      <td>0</td>\n",
       "      <td>0</td>\n",
       "      <td>0</td>\n",
       "      <td>125</td>\n",
       "      <td>56</td>\n",
       "      <td>1111</td>\n",
       "    </tr>\n",
       "    <tr>\n",
       "      <th>Zbed3-202_320</th>\n",
       "      <td>Zbed3-202</td>\n",
       "      <td>320</td>\n",
       "      <td>T</td>\n",
       "      <td>G</td>\n",
       "      <td>8</td>\n",
       "      <td>2</td>\n",
       "      <td>10</td>\n",
       "      <td>130</td>\n",
       "      <td>150</td>\n",
       "      <td>174</td>\n",
       "      <td>860</td>\n",
       "    </tr>\n",
       "    <tr>\n",
       "      <th>...</th>\n",
       "      <td>...</td>\n",
       "      <td>...</td>\n",
       "      <td>...</td>\n",
       "      <td>...</td>\n",
       "      <td>...</td>\n",
       "      <td>...</td>\n",
       "      <td>...</td>\n",
       "      <td>...</td>\n",
       "      <td>...</td>\n",
       "      <td>...</td>\n",
       "      <td>...</td>\n",
       "    </tr>\n",
       "    <tr>\n",
       "      <th>Gpd1-201_825</th>\n",
       "      <td>Gpd1-201</td>\n",
       "      <td>825</td>\n",
       "      <td>T</td>\n",
       "      <td>C</td>\n",
       "      <td>0</td>\n",
       "      <td>0</td>\n",
       "      <td>0</td>\n",
       "      <td>0</td>\n",
       "      <td>0</td>\n",
       "      <td>94</td>\n",
       "      <td>1143</td>\n",
       "    </tr>\n",
       "    <tr>\n",
       "      <th>Gpd1-201_508</th>\n",
       "      <td>Gpd1-201</td>\n",
       "      <td>508</td>\n",
       "      <td>C</td>\n",
       "      <td>T</td>\n",
       "      <td>0</td>\n",
       "      <td>0</td>\n",
       "      <td>0</td>\n",
       "      <td>0</td>\n",
       "      <td>0</td>\n",
       "      <td>94</td>\n",
       "      <td>1143</td>\n",
       "    </tr>\n",
       "    <tr>\n",
       "      <th>Gpd1-201_462</th>\n",
       "      <td>Gpd1-201</td>\n",
       "      <td>462</td>\n",
       "      <td>C</td>\n",
       "      <td>T</td>\n",
       "      <td>0</td>\n",
       "      <td>0</td>\n",
       "      <td>0</td>\n",
       "      <td>0</td>\n",
       "      <td>0</td>\n",
       "      <td>94</td>\n",
       "      <td>1143</td>\n",
       "    </tr>\n",
       "    <tr>\n",
       "      <th>Smarcd1-201_1699</th>\n",
       "      <td>Smarcd1-201</td>\n",
       "      <td>1699</td>\n",
       "      <td>G</td>\n",
       "      <td>A</td>\n",
       "      <td>0</td>\n",
       "      <td>0</td>\n",
       "      <td>0</td>\n",
       "      <td>0</td>\n",
       "      <td>0</td>\n",
       "      <td>194</td>\n",
       "      <td>1741</td>\n",
       "    </tr>\n",
       "    <tr>\n",
       "      <th>Mid1-205_1745</th>\n",
       "      <td>Mid1-205</td>\n",
       "      <td>1745</td>\n",
       "      <td>A</td>\n",
       "      <td>G</td>\n",
       "      <td>0</td>\n",
       "      <td>0</td>\n",
       "      <td>0</td>\n",
       "      <td>0</td>\n",
       "      <td>0</td>\n",
       "      <td>345</td>\n",
       "      <td>2387</td>\n",
       "    </tr>\n",
       "  </tbody>\n",
       "</table>\n",
       "<p>85339 rows × 11 columns</p>\n",
       "</div>"
      ],
      "text/plain": [
       "                              transcript  position REF ALT    A    C   G    T  \\\n",
       "trans_pos                                                                       \n",
       "Spin1-201_848                  Spin1-201       848   C   G    0  320   2    1   \n",
       "Zbed3-202_471                  Zbed3-202       471   T   C    0    0   0  217   \n",
       "Zbed3-202_707                  Zbed3-202       707   A   G  218    0   0    0   \n",
       "E330034G19Rik-203_257  E330034G19Rik-203       257   A   C  125    0   0    0   \n",
       "Zbed3-202_320                  Zbed3-202       320   T   G    8    2  10  130   \n",
       "...                                  ...       ...  ..  ..  ...  ...  ..  ...   \n",
       "Gpd1-201_825                    Gpd1-201       825   T   C    0    0   0    0   \n",
       "Gpd1-201_508                    Gpd1-201       508   C   T    0    0   0    0   \n",
       "Gpd1-201_462                    Gpd1-201       462   C   T    0    0   0    0   \n",
       "Smarcd1-201_1699             Smarcd1-201      1699   G   A    0    0   0    0   \n",
       "Mid1-205_1745                   Mid1-205      1745   A   G    0    0   0    0   \n",
       "\n",
       "                       snp_total  CDS_start  CDS_stop  \n",
       "trans_pos                                              \n",
       "Spin1-201_848                323        261      1049  \n",
       "Zbed3-202_471                217        174       860  \n",
       "Zbed3-202_707                218        174       860  \n",
       "E330034G19Rik-203_257        125         56      1111  \n",
       "Zbed3-202_320                150        174       860  \n",
       "...                          ...        ...       ...  \n",
       "Gpd1-201_825                   0         94      1143  \n",
       "Gpd1-201_508                   0         94      1143  \n",
       "Gpd1-201_462                   0         94      1143  \n",
       "Smarcd1-201_1699               0        194      1741  \n",
       "Mid1-205_1745                  0        345      2387  \n",
       "\n",
       "[85339 rows x 11 columns]"
      ]
     },
     "execution_count": 38,
     "metadata": {},
     "output_type": "execute_result"
    }
   ],
   "source": [
    "add_two_snp_dfs( riboseq_experiment_dfs[riboseq_one_cell_exps[0]], riboseq_experiment_dfs[riboseq_one_cell_exps[1]] )"
   ]
  },
  {
   "cell_type": "code",
   "execution_count": 39,
   "id": "fa43fdd7",
   "metadata": {},
   "outputs": [],
   "source": [
    "riboseq_snp_total_one_cell   = add_snp_dfs( [riboseq_experiment_dfs[e] for e in  riboseq_one_cell_exps] )\n",
    "riboseq_snp_total_two_cell   = add_snp_dfs( [riboseq_experiment_dfs[e] for e in  riboseq_two_cell_exps] )\n",
    "riboseq_snp_total_four_cell  = add_snp_dfs( [riboseq_experiment_dfs[e] for e in  riboseq_four_cell_exps] )\n",
    "riboseq_snp_total_eight_cell = add_snp_dfs( [riboseq_experiment_dfs[e] for e in  riboseq_eigth_cell_exps] )\n",
    "\n",
    "\n",
    "riboseq_snp_total_mii = add_snp_dfs( [riboseq_experiment_dfs[e] for e in  riboseq_mii_exps] )\n",
    "riboseq_snp_total_gv  = add_snp_dfs( [riboseq_experiment_dfs[e] for e in  riboseq_gv_epxs] )"
   ]
  },
  {
   "cell_type": "code",
   "execution_count": 40,
   "id": "be9cf965",
   "metadata": {},
   "outputs": [],
   "source": [
    "rnaseq_snp_total_one_cell   = add_snp_dfs( [rnaseq_experiment_dfs[e] for e in  rnaseq_one_cell_exps] )\n",
    "rnaseq_snp_total_two_cell   = add_snp_dfs( [rnaseq_experiment_dfs[e] for e in  rnaseq_two_cell_exps] )\n",
    "rnaseq_snp_total_four_cell  = add_snp_dfs( [rnaseq_experiment_dfs[e] for e in  rnaseq_four_cell_exps] )\n",
    "rnaseq_snp_total_eight_cell = add_snp_dfs( [rnaseq_experiment_dfs[e] for e in  rnaseq_eight_cell_exps] )\n",
    "\n",
    "\n",
    "rnaseq_snp_total_mii = add_snp_dfs( [rnaseq_experiment_dfs[e] for e in  rnaseq_mii_exps] )\n",
    "rnaseq_snp_total_gv  = add_snp_dfs( [rnaseq_experiment_dfs[e] for e in  rnaseq_gv_epxs] )"
   ]
  },
  {
   "cell_type": "markdown",
   "id": "2cb7e893",
   "metadata": {},
   "source": [
    "We add the paternal / maternal counts ratios to our dataframes"
   ]
  },
  {
   "cell_type": "code",
   "execution_count": 132,
   "id": "1298244a",
   "metadata": {},
   "outputs": [],
   "source": [
    "def find_maternal_ratio(snp_df):\n",
    "    maternal_ratios      = list()\n",
    "    maternal_count       = list()\n",
    "    paternal_count       = list()\n",
    "    mat_pat_count        = list()\n",
    "    \n",
    "    for i, e in snp_df.iterrows():\n",
    "        \n",
    "        maternal_nuc  = e[\"REF\"]\n",
    "        paternal_nuc  = e[\"ALT\"]\n",
    "        mat_pat_total = e[maternal_nuc] + e[paternal_nuc]\n",
    "        \n",
    "        # Avoid division by 0\n",
    "        if mat_pat_total == 0:\n",
    "            mat_pat_total = 1\n",
    "            \n",
    "        maternal_ratio = e[maternal_nuc] / mat_pat_total\n",
    "        \n",
    "        mat_pat_count.append(mat_pat_total)\n",
    "        maternal_ratios.append(maternal_ratio)\n",
    "        maternal_count.append(e[maternal_nuc])\n",
    "        paternal_count.append(e[paternal_nuc])\n",
    "        \n",
    "    snp_df[\"maternal_count\"] = maternal_count \n",
    "    snp_df[\"paternal_count\"] = paternal_count \n",
    "    snp_df[\"mat_pat_total\"]  = mat_pat_count \n",
    "    snp_df[\"maternal_ratio\"] = maternal_ratios\n",
    "    \n",
    "    return snp_df"
   ]
  },
  {
   "cell_type": "code",
   "execution_count": 42,
   "id": "ca27fedd",
   "metadata": {},
   "outputs": [],
   "source": [
    "find_maternal_ratio( riboseq_snp_total_one_cell )\n",
    "find_maternal_ratio( riboseq_snp_total_two_cell ) \n",
    "find_maternal_ratio( riboseq_snp_total_four_cell ) \n",
    "find_maternal_ratio( riboseq_snp_total_eight_cell )\n",
    "\n",
    "find_maternal_ratio( riboseq_snp_total_mii )\n",
    "find_maternal_ratio( riboseq_snp_total_gv ) "
   ]
  },
  {
   "cell_type": "code",
   "execution_count": 43,
   "id": "a549651e",
   "metadata": {},
   "outputs": [],
   "source": [
    "find_maternal_ratio( rnaseq_snp_total_one_cell )\n",
    "find_maternal_ratio( rnaseq_snp_total_two_cell ) \n",
    "find_maternal_ratio( rnaseq_snp_total_four_cell ) \n",
    "find_maternal_ratio( rnaseq_snp_total_eight_cell ) \n",
    "\n",
    "find_maternal_ratio( rnaseq_snp_total_mii )\n",
    "find_maternal_ratio( rnaseq_snp_total_gv )"
   ]
  },
  {
   "cell_type": "code",
   "execution_count": null,
   "id": "5dfdbadc",
   "metadata": {},
   "outputs": [],
   "source": []
  },
  {
   "cell_type": "markdown",
   "id": "1d273f47",
   "metadata": {},
   "source": [
    "## Proportionality Test\n",
    "\n",
    "In R, we use the following function to compare proportions.\n",
    "```\n",
    "prop.test( paternal, total )\n",
    "```\n",
    "\n",
    "Note that the above test tells us whether `paternal_ribo / total_ribo` is significantly different than\n",
    "`paternal_rna / total_rna`.\n",
    "\n",
    "`paternal` has two components: (ribo_paternal, rnaseq_paternal)\n",
    "\n",
    "`total` comdes from the sum of paternal and maternal counts. \n",
    "\n",
    "Namely,\n",
    "(ribo_paternal + ribo_maternal, rnaseq_paternal + rnaseq_maternal)"
   ]
  },
  {
   "cell_type": "code",
   "execution_count": 436,
   "id": "e3661da9",
   "metadata": {},
   "outputs": [],
   "source": [
    "proptest = robjects.r('prop.test')\n",
    "\n",
    "def perform_prop_test(df_1, df_2, error_threshold = 0.01, filter_small_counts = True):\n",
    "    \"\"\"\n",
    "    Decide whether paternal  ratios differ between df_1 and df_2\n",
    "    \n",
    "    Insufficient counts are marked with the p-value 10.\n",
    "    \n",
    "    If the difference between the proportionsare less than the error threshold, \n",
    "    they are marked with the p-value 5.\n",
    "    \"\"\"\n",
    "    \n",
    "    pvalues            = []\n",
    "    conf_midpoints     = []\n",
    "    diff_is_sufficient = []\n",
    "\n",
    "    merged_df = df_1.merge(df_2, on = \"trans_pos\")\n",
    "    \n",
    "    \n",
    "    for i, e in merged_df.iterrows():\n",
    "        #print(i, e)\n",
    "        if filter_small_counts:\n",
    "            \n",
    "            # Mark insufficient counts with p-val 10 and exclude them from the test\n",
    "            if (e[\"maternal_count_x\"]+ e[\"paternal_count_x\"]) < 10  or\\\n",
    "               (e[\"maternal_count_y\"] + e[\"paternal_count_y\"]) < 10 :\n",
    "                pvalues.append(10)\n",
    "                conf_midpoints.append(10)\n",
    "                diff_is_sufficient.append(0)\n",
    "                continue\n",
    "\n",
    "\n",
    "            if e[\"maternal_count_x\"]+ e[\"maternal_count_y\"] == 0 or\\\n",
    "               e[\"paternal_count_x\"] + e[\"paternal_count_y\"] == 0 :\n",
    "\n",
    "                #print(\"detected zero at\", i)\n",
    "                pvalues.append(10)\n",
    "                conf_midpoints.append(10)\n",
    "                diff_is_sufficient.append(0)\n",
    "                continue\n",
    "\n",
    "            if e[\"paternal_count_x\"] <=2 and e[\"paternal_count_y\"] <= 2:\n",
    "                pvalues.append(10)\n",
    "                conf_midpoints.append(10)\n",
    "                diff_is_sufficient.append(0)\n",
    "                continue\n",
    "        # A valuye 0 means the difference between the two ratios is \n",
    "        # very small\n",
    "        # 1 means, the diffrences is NOT very small.\n",
    "        # We will use it for filtering purposes\n",
    "        if e[\"maternal_count_x\"]+ e[\"paternal_count_x\"] == 0 or\\\n",
    "               e[\"maternal_count_y\"] + e[\"paternal_count_y\"] == 0 :\n",
    "\n",
    "                #print(\"detected zero at\", i)\n",
    "                pvalues.append(100)\n",
    "                conf_midpoints.append(100)\n",
    "                diff_is_sufficient.append(0)\n",
    "                continue\n",
    "        \n",
    "        r_paternal_counts = robjects.IntVector([ e[\"paternal_count_x\"], e[\"paternal_count_y\"] ])\n",
    "        r_total_counts    = robjects.IntVector([ e[\"paternal_count_x\"] + e[\"maternal_count_x\"], \n",
    "                                                 e[\"paternal_count_y\"] + e[\"maternal_count_y\"] ])\n",
    "        \n",
    "        proptest_result = proptest(r_paternal_counts, r_total_counts)\n",
    "        result_dict     = dict(proptest_result.items())\n",
    "        conf_int        = result_dict[\"conf.int\"]\n",
    "        mid_point_conf  = (conf_int[0] + conf_int[1]) / 2\n",
    "        \n",
    "\n",
    "        \n",
    "        if conf_int[1] < 0 and error_threshold > ((-1) * conf_int[1]):\n",
    "            diff_is_sufficient.append(0)\n",
    "        elif conf_int[1] >=0 and (error_threshold > conf_int[0]):\n",
    "            diff_is_sufficient.append(0)\n",
    "        else:\n",
    "            diff_is_sufficient.append(1)\n",
    "        \n",
    "        this_p_val = proptest_result[2][0]\n",
    "        pvalues.append(this_p_val)\n",
    "        \n",
    "        conf_midpoints.append(mid_point_conf)  \n",
    "        \n",
    "    result_dict = { #\"trans_pos\" : merged_df[\"trans_pos\"],\n",
    "                    \"p_val\":               pvalues,\n",
    "                    \"conf_mid\":            conf_midpoints,\n",
    "                    \"maternal_x\":          merged_df[\"maternal_count_x\"],\n",
    "                    \"paternal_x\":          merged_df[\"paternal_count_x\"],\n",
    "                    \"maternal_y\":          merged_df[\"maternal_count_y\"],\n",
    "                    \"paternal_y\":          merged_df[\"paternal_count_y\"],\n",
    "                    \"diff_is_sufficient\" : diff_is_sufficient,  }\n",
    "    \n",
    "    \n",
    "    \n",
    "    result_df =  pd.DataFrame.from_dict( result_dict )\n",
    "    \n",
    "    return result_df"
   ]
  },
  {
   "cell_type": "code",
   "execution_count": null,
   "id": "33a3fdc2",
   "metadata": {},
   "outputs": [],
   "source": []
  },
  {
   "cell_type": "markdown",
   "id": "7602c5b3",
   "metadata": {},
   "source": [
    "## Transcript Level SNPs\n",
    "\n",
    "We aggregate paternal & paternal counts of transcripts. Next, we determine transcripts chaning behavior ( in terms of paternal / maternal ratio). "
   ]
  },
  {
   "cell_type": "code",
   "execution_count": 382,
   "id": "a5c7f300",
   "metadata": {},
   "outputs": [],
   "source": [
    "def get_transcript_level_counts(snp_df):\n",
    "    result_dict = {}\n",
    "    \n",
    "    for g in snp_df[\"transcript\"]:\n",
    "        result_dict[g] = { \"transcript\": g, \"maternal_count\": 0, \"paternal_count\": 0 }\n",
    "        #result_dict[g] = { \"maternal_count\": 0, \"paternal_count\": 0 }\n",
    "        \n",
    "    for i, e in snp_df.iterrows():\n",
    "        \n",
    "        g = e[\"transcript\"]\n",
    "        \n",
    "        result_dict[g][\"maternal_count\"] += e[\"maternal_count\"] \n",
    "        result_dict[g][\"paternal_count\"] += e[\"paternal_count\"]\n",
    "        \n",
    "    result_df = pd.DataFrame.from_dict( result_dict ).transpose()\n",
    "    result_df.index.rename(\"trans_pos\", inplace = True)\n",
    "\n",
    "    \n",
    "    return result_df"
   ]
  },
  {
   "cell_type": "code",
   "execution_count": null,
   "id": "9ace63a7",
   "metadata": {},
   "outputs": [],
   "source": []
  },
  {
   "cell_type": "code",
   "execution_count": 383,
   "id": "5d231e49",
   "metadata": {},
   "outputs": [],
   "source": [
    "riboseq_t_level_snp_total_gv         = get_transcript_level_counts(riboseq_snp_total_gv)\n",
    "riboseq_t_level_snp_total_mii        = get_transcript_level_counts(riboseq_snp_total_mii )\n",
    "riboseq_t_level_snp_total_one_cell   = get_transcript_level_counts(riboseq_snp_total_one_cell )\n",
    "riboseq_t_level_snp_total_two_cell   = get_transcript_level_counts(riboseq_snp_total_two_cell )\n",
    "riboseq_t_level_snp_total_four_cell  = get_transcript_level_counts(riboseq_snp_total_four_cell )\n",
    "riboseq_t_level_snp_total_eight_cell = get_transcript_level_counts(riboseq_snp_total_eight_cell )"
   ]
  },
  {
   "cell_type": "code",
   "execution_count": 384,
   "id": "0ae3bef1",
   "metadata": {},
   "outputs": [],
   "source": [
    "rnaseq_t_level_snp_total_mii        = get_transcript_level_counts(rnaseq_snp_total_mii )\n",
    "rnaseq_t_level_snp_total_gv         = get_transcript_level_counts(rnaseq_snp_total_gv )\n",
    "rnaseq_t_level_snp_total_one_cell   = get_transcript_level_counts(rnaseq_snp_total_one_cell )\n",
    "rnaseq_t_level_snp_total_two_cell   = get_transcript_level_counts(rnaseq_snp_total_two_cell )\n",
    "rnaseq_t_level_snp_total_four_cell  = get_transcript_level_counts(rnaseq_snp_total_four_cell )\n",
    "rnaseq_t_level_snp_total_eight_cell = get_transcript_level_counts(rnaseq_snp_total_eight_cell )"
   ]
  },
  {
   "cell_type": "code",
   "execution_count": null,
   "id": "daf0961e",
   "metadata": {},
   "outputs": [],
   "source": []
  },
  {
   "cell_type": "markdown",
   "id": "72d109ca",
   "metadata": {},
   "source": [
    "### Perform PropTest"
   ]
  },
  {
   "cell_type": "code",
   "execution_count": 555,
   "id": "23b148fc",
   "metadata": {},
   "outputs": [],
   "source": [
    "\n",
    "\n",
    "proptest_t_level_gv_ribo_rna         = perform_prop_test( riboseq_t_level_snp_total_gv, \n",
    "                                                          rnaseq_t_level_snp_total_gv,\n",
    "                                                          error_threshold = PROPTEST_ERROR_THRESHOLD)\n",
    "\n",
    "proptest_t_level_mii_ribo_rna        = perform_prop_test( riboseq_t_level_snp_total_mii, \n",
    "                                                          rnaseq_t_level_snp_total_mii,\n",
    "                                                          error_threshold = PROPTEST_ERROR_THRESHOLD)\n",
    "\n",
    "proptest_t_level_one_cell_ribo_rna   = perform_prop_test( riboseq_t_level_snp_total_one_cell, \n",
    "                                                          rnaseq_t_level_snp_total_one_cell,\n",
    "                                                          error_threshold = PROPTEST_ERROR_THRESHOLD)\n",
    "\n",
    "proptest_t_level_two_cell_ribo_rna   = perform_prop_test( riboseq_t_level_snp_total_two_cell, \n",
    "                                                          rnaseq_t_level_snp_total_two_cell,\n",
    "                                                          error_threshold = PROPTEST_ERROR_THRESHOLD)\n",
    "\n",
    "proptest_t_level_four_cell_ribo_rna  = perform_prop_test( riboseq_t_level_snp_total_four_cell, \n",
    "                                                          rnaseq_t_level_snp_total_four_cell,\n",
    "                                                          error_threshold = PROPTEST_ERROR_THRESHOLD)\n",
    "\n",
    "proptest_t_level_eight_cell_ribo_rna = perform_prop_test( riboseq_t_level_snp_total_eight_cell, \n",
    "                                                          rnaseq_t_level_snp_total_eight_cell,\n",
    "                                                          error_threshold = PROPTEST_ERROR_THRESHOLD)"
   ]
  },
  {
   "cell_type": "code",
   "execution_count": null,
   "id": "67783ce0",
   "metadata": {},
   "outputs": [],
   "source": []
  },
  {
   "cell_type": "markdown",
   "id": "c2b005ea",
   "metadata": {},
   "source": [
    "## Filtering PropTest Results\n",
    "\n",
    "We exclude the proptest results where the confidence interval of the diffrence between the ribo and rna ratios is below a certain threshold (see below number). These values are marked with the p-value 5 in the result tables.\n",
    "\n",
    "We also add the FDR value to the results."
   ]
  },
  {
   "cell_type": "code",
   "execution_count": 556,
   "id": "e9345e41",
   "metadata": {},
   "outputs": [],
   "source": [
    "padjust = robjects.r(\"p.adjust\")\n",
    "\n",
    "\n",
    "def filter_and_padjust_proptest_results( input_df , threshold = 2 ):\n",
    "    \n",
    "    #result_df = input_df[t_index]\n",
    "    # exclude obvious cases marked with p values >= 5\n",
    "    result_df = input_df[ input_df[\"p_val\"] < 5 ]\n",
    "    \n",
    "    result_df = result_df[ np.logical_not(np.isclose(result_df[\"p_val\"] , 1) ) ]\n",
    "    \n",
    "    \n",
    "    \n",
    "    p_values         = robjects.FloatVector( result_df[\"p_val\"] )\n",
    "    r_fdr_values     = padjust( p_values, method = \"fdr\" )\n",
    "    result_df[\"fdr\"] = [float(x) for x in r_fdr_values] \n",
    "    \n",
    "    \n",
    "    return result_df"
   ]
  },
  {
   "cell_type": "code",
   "execution_count": 557,
   "id": "515af44e",
   "metadata": {},
   "outputs": [],
   "source": [
    "filtered_proptest_t_level_gv_ribo_rna         = filter_and_padjust_proptest_results(proptest_t_level_gv_ribo_rna)\n",
    "filtered_proptest_t_level_mii_ribo_rna        = filter_and_padjust_proptest_results(proptest_t_level_mii_ribo_rna)\n",
    "filtered_proptest_t_level_one_cell_ribo_rna   = filter_and_padjust_proptest_results(proptest_t_level_one_cell_ribo_rna)\n",
    "filtered_proptest_t_level_two_cell_ribo_rna   = filter_and_padjust_proptest_results(proptest_t_level_two_cell_ribo_rna)\n",
    "filtered_proptest_t_level_four_cell_ribo_rna  = filter_and_padjust_proptest_results(proptest_t_level_four_cell_ribo_rna)\n",
    "filtered_proptest_t_level_eight_cell_ribo_rna = filter_and_padjust_proptest_results(proptest_t_level_eight_cell_ribo_rna)"
   ]
  },
  {
   "cell_type": "code",
   "execution_count": null,
   "id": "63bc4e95",
   "metadata": {},
   "outputs": [],
   "source": []
  },
  {
   "cell_type": "markdown",
   "id": "b37931ea",
   "metadata": {},
   "source": [
    "## Total Number of Genes that we detected and tested in Proptest\n",
    "\n",
    "To find this number, we can simply consider the genes with an assigned p-value of <= 1 as we marked genes with low counts with p-values > 1."
   ]
  },
  {
   "cell_type": "code",
   "execution_count": 634,
   "id": "bca292b2",
   "metadata": {},
   "outputs": [],
   "source": [
    "one_cell_tested_transcripts = \\\n",
    "   set(proptest_t_level_one_cell_ribo_rna[proptest_t_level_one_cell_ribo_rna[\"p_val\"] <= 1 ].index )\n",
    "\n",
    "two_cell_tested_transcripts = \\\n",
    "   set(proptest_t_level_two_cell_ribo_rna[proptest_t_level_two_cell_ribo_rna[\"p_val\"] <= 1 ].index )\n",
    "\n",
    "four_cell_tested_transcripts = \\\n",
    "   set(proptest_t_level_four_cell_ribo_rna[proptest_t_level_four_cell_ribo_rna[\"p_val\"] <= 1 ].index )\n",
    "\n",
    "eight_cell_tested_transcripts = \\\n",
    "   set(proptest_t_level_eight_cell_ribo_rna[proptest_t_level_eight_cell_ribo_rna[\"p_val\"] <= 1 ].index )"
   ]
  },
  {
   "cell_type": "code",
   "execution_count": 638,
   "id": "ef504396",
   "metadata": {},
   "outputs": [
    {
     "name": "stdout",
     "output_type": "stream",
     "text": [
      "The total number of transcripts tested is 1012.\n"
     ]
    }
   ],
   "source": [
    "transcripts_tested = \\\n",
    "    one_cell_tested_transcripts.union( \n",
    "        two_cell_tested_transcripts.union(\n",
    "          four_cell_tested_transcripts.union(\n",
    "             eight_cell_tested_transcripts )  ) )\n",
    "    \n",
    "print(\"The total number of transcripts tested is {}.\".format( len(transcripts_tested) ))"
   ]
  },
  {
   "cell_type": "code",
   "execution_count": null,
   "id": "744c0dd5",
   "metadata": {},
   "outputs": [],
   "source": []
  },
  {
   "cell_type": "markdown",
   "id": "87bc1920",
   "metadata": {},
   "source": [
    "## Total Number of Genes having at least one informative read\n"
   ]
  },
  {
   "cell_type": "code",
   "execution_count": 649,
   "id": "05b25fac",
   "metadata": {},
   "outputs": [
    {
     "name": "stdout",
     "output_type": "stream",
     "text": [
      "We detected 7056 informative transcripts.\n",
      "Informative transcript: A transcript having at least one SNP overlapping read in an experiment.\n"
     ]
    }
   ],
   "source": [
    "one_cell_informative_indices     = \\\n",
    "    proptest_t_level_one_cell_ribo_rna[\"maternal_x\"] + proptest_t_level_one_cell_ribo_rna[\"paternal_x\"] > 0\n",
    "one_cell_informative_transcripts = set(proptest_t_level_one_cell_ribo_rna[one_cell_informative_indices].index)\n",
    "\n",
    "\n",
    "two_cell_informative_indices     = \\\n",
    "    proptest_t_level_two_cell_ribo_rna[\"maternal_x\"] + proptest_t_level_two_cell_ribo_rna[\"paternal_x\"] > 0\n",
    "two_cell_informative_transcripts = set(proptest_t_level_two_cell_ribo_rna[two_cell_informative_indices].index)\n",
    "\n",
    "\n",
    "four_cell_informative_indices     = \\\n",
    "    proptest_t_level_four_cell_ribo_rna[\"maternal_x\"] + proptest_t_level_four_cell_ribo_rna[\"paternal_x\"] > 0\n",
    "four_cell_informative_transcripts = set(proptest_t_level_four_cell_ribo_rna[four_cell_informative_indices].index)\n",
    "\n",
    "eight_cell_informative_indices     = \\\n",
    "    proptest_t_level_eight_cell_ribo_rna[\"maternal_x\"] + proptest_t_level_eight_cell_ribo_rna[\"paternal_x\"] > 0\n",
    "eight_cell_informative_transcripts = set(proptest_t_level_eight_cell_ribo_rna[eight_cell_informative_indices].index)\n",
    "\n",
    "all_snp_informative_transcripts = \\\n",
    "    one_cell_informative_transcripts.union(\n",
    "        two_cell_informative_transcripts.union(\n",
    "            four_cell_informative_transcripts.union(\n",
    "                eight_cell_informative_transcripts)  ) )\n",
    "    \n",
    "print(\"We detected {} informative transcripts.\".format(len( all_snp_informative_transcripts )))\n",
    "print(\"Informative transcript: A transcript having at least one SNP overlapping read in an experiment.\")"
   ]
  },
  {
   "cell_type": "markdown",
   "id": "85c8969b",
   "metadata": {},
   "source": [
    "## Total Number of Detected Genes\n",
    "\n"
   ]
  },
  {
   "cell_type": "code",
   "execution_count": 704,
   "id": "ef11fbde",
   "metadata": {},
   "outputs": [],
   "source": [
    "rna_count_table = \"../../../cds_counts.csv.gz\"\n",
    "rna_cds_counts  = pd.read_csv(rna_count_table, index_col=0)"
   ]
  },
  {
   "cell_type": "code",
   "execution_count": null,
   "id": "583e8e39",
   "metadata": {},
   "outputs": [],
   "source": []
  },
  {
   "cell_type": "code",
   "execution_count": 723,
   "id": "6edca4ee",
   "metadata": {},
   "outputs": [
    {
     "name": "stdout",
     "output_type": "stream",
     "text": [
      "14609: Total Detected Genes:\n",
      "6937: The intersection of Informative Genes and detected genes\n",
      "Threshold = 5\n",
      "Percentage is 47.48442740776234\n"
     ]
    }
   ],
   "source": [
    "DETECTION_THRESHOLD = 5\n",
    "T_DIVIDER = 1000000\n",
    "\n",
    "one_cell_threshold            = np.sum(rna_cds_counts[rnaseq_one_cell_exps].sum(axis = 1))  / T_DIVIDER\n",
    "one_cell_detected_transcripts =  \\\n",
    "    set(rna_cds_counts[ rna_cds_counts[rnaseq_one_cell_exps].sum(axis = 1) >= one_cell_threshold ].index)\n",
    "\n",
    "two_cell_threshold            = np.sum(rna_cds_counts[rnaseq_two_cell_exps].sum(axis = 1))  / T_DIVIDER\n",
    "two_cell_detected_transcripts =  \\\n",
    "    set(rna_cds_counts[ rna_cds_counts[rnaseq_two_cell_exps].sum(axis = 1) >= two_cell_threshold ].index)\n",
    "\n",
    "four_cell_threshold            = np.sum(rna_cds_counts[rnaseq_four_cell_exps].sum(axis = 1))  / T_DIVIDER\n",
    "four_cell_detected_transcripts =  \\\n",
    "    set(rna_cds_counts[ rna_cds_counts[rnaseq_four_cell_exps].sum(axis = 1) >= four_cell_threshold ].index)\n",
    "\n",
    "eight_cell_threshold            = np.sum(rna_cds_counts[rnaseq_eight_cell_exps].sum(axis = 1))  / T_DIVIDER\n",
    "eight_cell_detected_transcripts =  \\\n",
    "    set(rna_cds_counts[ rna_cds_counts[rnaseq_eight_cell_exps].sum(axis = 1) >= eight_cell_threshold ].index)\n",
    "\n",
    "mouse_ribo_detected_genes_pre = \\\n",
    "    one_cell_detected_transcripts.union(\n",
    "        two_cell_detected_transcripts.union(\n",
    "        four_cell_detected_transcripts.union(\n",
    "            eight_cell_detected_transcripts ) )  )\n",
    "\n",
    "mouse_ribo_detected_genes_pre = (  set(  map(lambda x: x.split(\"|\")[4], mouse_ribo_detected_genes_pre)   )  )\n",
    "\n",
    "\n",
    "\n",
    "mouse_ribo_detected_genes = mouse_ribo_detected_genes_pre.intersection(all_snp_informative_transcripts)\n",
    "\n",
    "print(\"{}: Total Detected Genes:\".format(  len(mouse_ribo_detected_genes_pre)  ) )\n",
    "print(\"{}: The intersection of Informative Genes and detected genes\".\\\n",
    "        format(  len(mouse_ribo_detected_genes) ) )\n",
    "print(\"Threshold = {}\".format(DETECTION_THRESHOLD))\n",
    "print(\"Percentage is {}\".format( ( len(mouse_ribo_detected_genes) / len(mouse_ribo_detected_genes_pre))*100 ))"
   ]
  },
  {
   "cell_type": "code",
   "execution_count": null,
   "id": "235b300d",
   "metadata": {},
   "outputs": [],
   "source": [
    "##### The code below is to be deleted!!!!!"
   ]
  },
  {
   "cell_type": "code",
   "execution_count": 682,
   "id": "856709bd",
   "metadata": {},
   "outputs": [],
   "source": [
    "import ribopy\n",
    "from ribopy import Ribo\n",
    "\n",
    "ribo_file_path = \"../../../mouse-itp_v5.ribo\"\n",
    "\n",
    "mouse_ribo     = Ribo(ribo_file_path, alias = ribopy.api.alias.apris_human_alias )"
   ]
  },
  {
   "cell_type": "code",
   "execution_count": 681,
   "id": "5f80c70b",
   "metadata": {},
   "outputs": [],
   "source": [
    "Ribo?"
   ]
  },
  {
   "cell_type": "code",
   "execution_count": 684,
   "id": "cedf6e01",
   "metadata": {},
   "outputs": [],
   "source": [
    "mouse_region_counts = \\\n",
    "    mouse_ribo.get_region_counts(region_name = \"CDS\",\n",
    "                                sum_lengths  = True,\n",
    "                                sum_references = False,\n",
    "                                range_lower  = 29,\n",
    "                                range_upper  = 35,\n",
    "                                alias        = True,\n",
    "                                experiments  = riboseq_one_cell_exps  + riboseq_two_cell_exps + \\\n",
    "                                               riboseq_four_cell_exps +  riboseq_eigth_cell_exps )"
   ]
  },
  {
   "cell_type": "code",
   "execution_count": 699,
   "id": "8dfec75e",
   "metadata": {},
   "outputs": [
    {
     "name": "stdout",
     "output_type": "stream",
     "text": [
      "7952: Total Detected Genes:\n",
      "5704: The intersection of Informative Genes and detected genes has elements\n",
      "Threshold = 5\n",
      "Percentage is 71.73038229376257\n"
     ]
    }
   ],
   "source": [
    "#DETECTION_THRESHOLD = 5\n",
    "\n",
    "one_cell_detected_transcripts =  \\\n",
    "    set(mouse_region_counts[ mouse_region_counts[riboseq_one_cell_exps].sum(axis = 1) >= DETECTION_THRESHOLD ].index)\n",
    "\n",
    "two_cell_detected_transcripts =  \\\n",
    "    set(mouse_region_counts[ mouse_region_counts[riboseq_two_cell_exps].sum(axis = 1) >= DETECTION_THRESHOLD ].index)\n",
    "\n",
    "four_cell_detected_transcripts =  \\\n",
    "    set(mouse_region_counts[ mouse_region_counts[riboseq_four_cell_exps].sum(axis = 1) >= DETECTION_THRESHOLD ].index)\n",
    "\n",
    "eight_cell_detected_transcripts =  \\\n",
    "    set(mouse_region_counts[ mouse_region_counts[riboseq_eigth_cell_exps].sum(axis = 1) >= DETECTION_THRESHOLD ].index)\n",
    "\n",
    "mouse_ribo_detected_genes_pre = \\\n",
    "    one_cell_detected_transcripts.union(\n",
    "        two_cell_detected_transcripts.union(\n",
    "        four_cell_detected_transcripts.union(\n",
    "            eight_cell_detected_transcripts ) )  )\n",
    "\n",
    "mouse_ribo_detected_genes = mouse_ribo_detected_genes_pre.intersection(all_snp_informative_transcripts)\n",
    "\n",
    "print(\"{}: Total Detected Genes:\".format(  len(mouse_ribo_detected_genes_pre)  ) )\n",
    "print(\"{}: The intersection of Informative Genes and detected genes\".\\\n",
    "        format(  len(mouse_ribo_detected_genes) ) )\n",
    "print(\"Threshold = {}\".format(DETECTION_THRESHOLD))\n",
    "print(\"Percentage is {}\".format( ( len(mouse_ribo_detected_genes) / len(mouse_ribo_detected_genes_pre))*100 ))"
   ]
  },
  {
   "cell_type": "markdown",
   "id": "f9e1406c",
   "metadata": {},
   "source": [
    "## FDR Threshold"
   ]
  },
  {
   "cell_type": "code",
   "execution_count": 558,
   "id": "7136a9ab",
   "metadata": {},
   "outputs": [
    {
     "data": {
      "text/plain": [
       "0.2"
      ]
     },
     "execution_count": 558,
     "metadata": {},
     "output_type": "execute_result"
    }
   ],
   "source": [
    "FDR_THRESHOLD"
   ]
  },
  {
   "cell_type": "markdown",
   "id": "bd9054b4",
   "metadata": {},
   "source": [
    "## Arranging PropTest Results"
   ]
  },
  {
   "cell_type": "code",
   "execution_count": 559,
   "id": "6db398dc",
   "metadata": {},
   "outputs": [],
   "source": [
    "interesting_genes = dict()"
   ]
  },
  {
   "cell_type": "code",
   "execution_count": 560,
   "id": "6222f3b4",
   "metadata": {},
   "outputs": [
    {
     "name": "stdout",
     "output_type": "stream",
     "text": [
      "29 selected before diff_is_sufficient and 3 is selected after filtering for diff_is_sufficient\n"
     ]
    }
   ],
   "source": [
    "one_cell_selected_entries = filtered_proptest_t_level_one_cell_ribo_rna[\\\n",
    "                                        filtered_proptest_t_level_one_cell_ribo_rna[\"fdr\"] < FDR_THRESHOLD]\n",
    "\n",
    "len_before = len(one_cell_selected_entries)\n",
    "\n",
    "one_cell_selected_entries = one_cell_selected_entries[ one_cell_selected_entries[\"diff_is_sufficient\"] == 1 ]\\\n",
    "                                            .sort_values(by=\"fdr\")\n",
    "\n",
    "len_after = len(one_cell_selected_entries)    \n",
    "    \n",
    "interesting_genes[1] = list( one_cell_selected_entries.index )\n",
    "\n",
    "one_cell_proptest_result_file = os.path.join(OUTPUT_FOLDER, \"one_cell_proptest_results.csv\")\n",
    "\n",
    "\n",
    "one_cell_selected_entries.rename_axis( \"transcript\").to_csv(one_cell_proptest_result_file)\n",
    "\n",
    "print(\"{} selected before diff_is_sufficient and {} is selected after filtering for diff_is_sufficient\".\\\n",
    "      format(len_before, len_after))"
   ]
  },
  {
   "cell_type": "code",
   "execution_count": null,
   "id": "cd28b52d",
   "metadata": {},
   "outputs": [],
   "source": []
  },
  {
   "cell_type": "code",
   "execution_count": 561,
   "id": "13b5b026",
   "metadata": {},
   "outputs": [
    {
     "name": "stdout",
     "output_type": "stream",
     "text": [
      "13 selected before diff_is_sufficient and 4 is selected after filtering for diff_is_sufficient\n"
     ]
    }
   ],
   "source": [
    "two_cell_selected_entries = filtered_proptest_t_level_two_cell_ribo_rna[\\\n",
    "                                filtered_proptest_t_level_two_cell_ribo_rna[\"fdr\"] < FDR_THRESHOLD]\n",
    "\n",
    "len_before = len(two_cell_selected_entries)\n",
    "\n",
    "two_cell_selected_entries = two_cell_selected_entries[two_cell_selected_entries[\"diff_is_sufficient\"] == 1]\\\n",
    "                                   .sort_values(by=\"fdr\")\n",
    "\n",
    "len_after  = len(two_cell_selected_entries)\n",
    "\n",
    "interesting_genes[2] = list(two_cell_selected_entries.index)\n",
    "\n",
    "two_cell_proptest_result_file = os.path.join(OUTPUT_FOLDER, \"two_cell_proptest_results.csv\")\n",
    "two_cell_selected_entries.rename_axis( \"transcript\").to_csv(two_cell_proptest_result_file)\n",
    "\n",
    "print(\"{} selected before diff_is_sufficient and {} is selected after filtering for diff_is_sufficient\".\\\n",
    "      format(len_before, len_after))"
   ]
  },
  {
   "cell_type": "code",
   "execution_count": null,
   "id": "d1636229",
   "metadata": {},
   "outputs": [],
   "source": []
  },
  {
   "cell_type": "code",
   "execution_count": 562,
   "id": "34de9595",
   "metadata": {},
   "outputs": [
    {
     "name": "stdout",
     "output_type": "stream",
     "text": [
      "32 selected before diff_is_sufficient and 28 is selected after filtering for diff_is_sufficient\n"
     ]
    }
   ],
   "source": [
    "four_cell_selected_entries = filtered_proptest_t_level_four_cell_ribo_rna[\\\n",
    "                                            filtered_proptest_t_level_four_cell_ribo_rna[\"fdr\"] < FDR_THRESHOLD]\n",
    "\n",
    "len_before = len(four_cell_selected_entries)\n",
    "\n",
    "four_cell_selected_entries = four_cell_selected_entries[ four_cell_selected_entries[\"diff_is_sufficient\"] == 1 ]\\\n",
    "                                                   .sort_values(by=\"fdr\")\n",
    "\n",
    "len_after = len(four_cell_selected_entries)\n",
    "\n",
    "interesting_genes[4] = list( four_cell_selected_entries.index )\n",
    "\n",
    "four_cell_proptest_result_file = os.path.join(OUTPUT_FOLDER, \"four_cell_proptest_results.csv\")\n",
    "four_cell_selected_entries.rename_axis( \"transcript\").to_csv( four_cell_proptest_result_file )\n",
    "\n",
    "print(\"{} selected before diff_is_sufficient and {} is selected after filtering for diff_is_sufficient\".\\\n",
    "      format(len_before, len_after))"
   ]
  },
  {
   "cell_type": "code",
   "execution_count": null,
   "id": "1e7cfb97",
   "metadata": {},
   "outputs": [],
   "source": []
  },
  {
   "cell_type": "code",
   "execution_count": 563,
   "id": "1f3bb368",
   "metadata": {},
   "outputs": [
    {
     "name": "stdout",
     "output_type": "stream",
     "text": [
      "54 selected before diff_is_sufficient and 48 is selected after filtering for diff_is_sufficient\n"
     ]
    }
   ],
   "source": [
    "eight_cell_selected_entries = filtered_proptest_t_level_eight_cell_ribo_rna[\\\n",
    "                                        filtered_proptest_t_level_eight_cell_ribo_rna[\"fdr\"] < FDR_THRESHOLD]\n",
    "\n",
    "len_before = len(eight_cell_selected_entries)\n",
    "\n",
    "eight_cell_selected_entries = eight_cell_selected_entries[ eight_cell_selected_entries[\"diff_is_sufficient\"] == 1 ]\\\n",
    "                                                  .sort_values(by=\"fdr\")\n",
    "\n",
    "len_after = len(eight_cell_selected_entries)\n",
    "\n",
    "interesting_genes[8] = list( eight_cell_selected_entries.index )\n",
    "\n",
    "eight_cell_proptest_result_file = os.path.join(OUTPUT_FOLDER, \"eight_cell_proptest_results.csv\")\n",
    "eight_cell_selected_entries.rename_axis( \"transcript\").to_csv( eight_cell_proptest_result_file )\n",
    "\n",
    "print(\"{} selected before diff_is_sufficient and {} is selected after filtering for diff_is_sufficient\".\\\n",
    "      format(len_before, len_after))"
   ]
  },
  {
   "cell_type": "code",
   "execution_count": 564,
   "id": "e40d174f",
   "metadata": {},
   "outputs": [
    {
     "data": {
      "text/plain": [
       "0.2"
      ]
     },
     "execution_count": 564,
     "metadata": {},
     "output_type": "execute_result"
    }
   ],
   "source": [
    "FDR_THRESHOLD"
   ]
  },
  {
   "cell_type": "code",
   "execution_count": 565,
   "id": "8531e035",
   "metadata": {},
   "outputs": [
    {
     "name": "stdout",
     "output_type": "stream",
     "text": [
      "We initially found a total of 79 genes passing the proptest\n"
     ]
    }
   ],
   "source": [
    "set_of_interesting_genes = set(interesting_genes[2] +\\\n",
    "                               interesting_genes[4] +\\\n",
    "                               interesting_genes[8])\n",
    "\n",
    "print(\"We initially found a total of {} genes passing the proptest\".format(len(set_of_interesting_genes)))"
   ]
  },
  {
   "cell_type": "code",
   "execution_count": 566,
   "id": "c7e270d5",
   "metadata": {},
   "outputs": [],
   "source": [
    "ribo_transcript_snp_count_dfs = [riboseq_t_level_snp_total_gv, riboseq_t_level_snp_total_mii, \n",
    "                            riboseq_t_level_snp_total_one_cell, riboseq_t_level_snp_total_two_cell,\n",
    "                            riboseq_t_level_snp_total_four_cell, riboseq_t_level_snp_total_eight_cell]\n",
    "\n",
    "rna_transcript_snp_count_dfs = [rnaseq_t_level_snp_total_gv, rnaseq_t_level_snp_total_mii,\n",
    "                                rnaseq_t_level_snp_total_one_cell, rnaseq_t_level_snp_total_two_cell,\n",
    "                                rnaseq_t_level_snp_total_four_cell, rnaseq_t_level_snp_total_eight_cell]\n",
    "\n",
    "\n",
    "def get_transcript_ratios(transcript):\n",
    "\n",
    "    prefix = \"paternal\"\n",
    "    ribo_paternal_counts = [ int(x[ x[\"transcript\"] == transcript][prefix+\"_count\"] ) for x in ribo_transcript_snp_count_dfs ]\n",
    "    prefix = \"maternal\"\n",
    "    ribo_maternal_counts = [ int(x[ x[\"transcript\"] == transcript][prefix+\"_count\"]) for x in ribo_transcript_snp_count_dfs ]\n",
    "\n",
    "    # Avoid division by 0\n",
    "    #for i ,v in enumerate(ribo_maternal_counts):\n",
    "    #    if v == 0:\n",
    "    #        ribo_maternal_counts[i] = 1\n",
    "    \n",
    "    prefix = \"paternal\"\n",
    "    rna_paternal_counts = [ int(x[ x[\"transcript\"] == transcript][prefix+\"_count\"]) for x in rna_transcript_snp_count_dfs ]\n",
    "    prefix = \"maternal\"\n",
    "    rna_maternal_counts = [ int(x[ x[\"transcript\"] == transcript][prefix+\"_count\"]) for x in rna_transcript_snp_count_dfs ]\n",
    "\n",
    "    # Avoid division by 0\n",
    "    #for i , v in enumerate(rna_maternal_counts):\n",
    "    #    if v == 0:\n",
    "    #        rna_maternal_counts[i] = 1\n",
    "    \n",
    "    ribo_ratios = np.divide( ribo_paternal_counts, ribo_maternal_counts )\n",
    "    rna_ratios  = np.divide( rna_paternal_counts, rna_maternal_counts )\n",
    "    \n",
    "    ribo_total_ratios = np.divide( ribo_paternal_counts, np.add( ribo_paternal_counts , ribo_maternal_counts ) )\n",
    "    rna_total_ratios  = np.divide( rna_paternal_counts, np.add( rna_paternal_counts , rna_maternal_counts ) )\n",
    "    ####!!!!!\n",
    "    # Remove pseodo count from maternals if paternal / total visuals look good\n",
    "    \n",
    "    result_dict = {\n",
    "        \"ribo_ratios\"          : ribo_total_ratios,\n",
    "        \"rna_ratios\"           : rna_total_ratios,\n",
    "        #\"ribo_ratios\"          : ribo_ratios,\n",
    "        #\"rna_ratios\"           : rna_ratios,\n",
    "        #\"ribo_total_ratios\"    : ribo_total_ratios,\n",
    "        #\"rna_total_ratios\"     : rna_total_ratios,\n",
    "        \"ribo_paternal_counts\" : ribo_paternal_counts,\n",
    "        \"ribo_maternal_counts\" : ribo_maternal_counts,\n",
    "        \"rna_paternal_counts\"  : rna_paternal_counts,\n",
    "        \"rna_maternal_counts\"  : rna_maternal_counts\n",
    "    }\n",
    "    \n",
    "    return( result_dict )"
   ]
  },
  {
   "cell_type": "code",
   "execution_count": 567,
   "id": "a49f0cbd",
   "metadata": {},
   "outputs": [
    {
     "name": "stderr",
     "output_type": "stream",
     "text": [
      "/home/hakan/miniconda3/envs/ribo/lib/python3.6/site-packages/ipykernel_launcher.py:32: RuntimeWarning: invalid value encountered in true_divide\n",
      "/home/hakan/miniconda3/envs/ribo/lib/python3.6/site-packages/ipykernel_launcher.py:35: RuntimeWarning: invalid value encountered in true_divide\n",
      "/home/hakan/miniconda3/envs/ribo/lib/python3.6/site-packages/ipykernel_launcher.py:32: RuntimeWarning: divide by zero encountered in true_divide\n",
      "/home/hakan/miniconda3/envs/ribo/lib/python3.6/site-packages/ipykernel_launcher.py:33: RuntimeWarning: invalid value encountered in true_divide\n",
      "/home/hakan/miniconda3/envs/ribo/lib/python3.6/site-packages/ipykernel_launcher.py:36: RuntimeWarning: invalid value encountered in true_divide\n",
      "/home/hakan/miniconda3/envs/ribo/lib/python3.6/site-packages/ipykernel_launcher.py:33: RuntimeWarning: divide by zero encountered in true_divide\n"
     ]
    },
    {
     "name": "stdout",
     "output_type": "stream",
     "text": [
      "59 refined genes selected\n"
     ]
    }
   ],
   "source": [
    "exp_types  = [\"mii\", \"1\", \"2\", \"4\", \"8\"] \n",
    "\n",
    "# RIBO RATIOS\n",
    "df_dict = dict([ (x, {}) for x in exp_types ])\n",
    "\n",
    "for g in set_of_interesting_genes:\n",
    "    a = get_transcript_ratios(g)\n",
    "    for i, e in enumerate(exp_types):\n",
    "        df_dict[e][g] = a[\"ribo_ratios\"][i+1]\n",
    "        \n",
    "ribo_ratios_df = pd.DataFrame.from_dict(df_dict).transpose()\n",
    "\n",
    "# RNA RATIOS\n",
    "df_dict = dict([ (x, {}) for x in exp_types ])\n",
    "\n",
    "for g in set_of_interesting_genes:\n",
    "    a = get_transcript_ratios(g)\n",
    "    for i, e in enumerate(exp_types):\n",
    "        df_dict[e][g] = a[\"rna_ratios\"][i+1]\n",
    "        \n",
    "rna_ratios_df = pd.DataFrame.from_dict(df_dict).transpose()\n",
    "\n",
    "\n",
    "ribo_to_rna_ratios = ribo_ratios_df  - rna_ratios_df\n",
    "\n",
    "\n",
    "mii_proptest_at_interesting_genes = proptest_t_level_mii_ribo_rna.loc[set_of_interesting_genes]\n",
    "\n",
    "genes_with_paternal_reads_in_mii = \\\n",
    "    set(mii_proptest_at_interesting_genes[ \\\n",
    "            np.logical_or(mii_proptest_at_interesting_genes[\"paternal_x\"] > 0, \n",
    "                          mii_proptest_at_interesting_genes[\"paternal_y\"] > 0) ].index)\n",
    "\n",
    "refined_gene_selection = list(\\\n",
    "                              set_of_interesting_genes.difference(genes_with_paternal_reads_in_mii)\n",
    "                             )\n",
    "\n",
    "print(\"{} refined genes selected\".format(len(refined_gene_selection)))\n",
    "\n"
   ]
  },
  {
   "cell_type": "code",
   "execution_count": null,
   "id": "c6dab191",
   "metadata": {},
   "outputs": [],
   "source": []
  },
  {
   "cell_type": "markdown",
   "id": "a970b8cb",
   "metadata": {},
   "source": [
    "## Bootstrapping"
   ]
  },
  {
   "cell_type": "code",
   "execution_count": 587,
   "id": "0084f697",
   "metadata": {},
   "outputs": [],
   "source": [
    "initial_selected_genes = list(refined_gene_selection)"
   ]
  },
  {
   "cell_type": "code",
   "execution_count": 588,
   "id": "4d5f5615",
   "metadata": {},
   "outputs": [
    {
     "data": {
      "text/plain": [
       "array(['x', 'z', 'y'], dtype='<U1')"
      ]
     },
     "execution_count": 588,
     "metadata": {},
     "output_type": "execute_result"
    }
   ],
   "source": [
    "# An example of the bootstrapping function\n",
    "np.random.seed(2019)\n",
    "np.random.choice([\"x\", \"y\", \"z\"], size = 3, replace = True)"
   ]
  },
  {
   "cell_type": "code",
   "execution_count": 589,
   "id": "f854e63a",
   "metadata": {},
   "outputs": [
    {
     "data": {
      "text/plain": [
       "array(['20210513-ITP-1cell-cross-50-A', '20210513-ITP-1cell-cross-50-A',\n",
       "       '20210513-ITP-1cell-cross-50-E', '20210513-ITP-1cell-cross-50-C',\n",
       "       '20210513-ITP-1cell-cross-50-A'], dtype='<U29')"
      ]
     },
     "execution_count": 589,
     "metadata": {},
     "output_type": "execute_result"
    }
   ],
   "source": [
    "# Example showing how we randomly select replicates for a specific embryo stage.\n",
    "np.random.choice(riboseq_one_cell_exps, size = len(riboseq_one_cell_exps), replace = True)"
   ]
  },
  {
   "cell_type": "code",
   "execution_count": 590,
   "id": "5ea024e2",
   "metadata": {},
   "outputs": [],
   "source": [
    "# We restrict our dataframes to the initially selected set of genes\n",
    "# Those initial genes are coming from the results of the prop.test\n",
    "# where we combine all replicates, poerform the proptest and\n",
    "# pick genes with FDR < 0.05\n",
    "\n",
    "restricted_riboseq_experiment_dfs = dict()\n",
    "restricted_rnaseq_experiment_dfs  = dict()\n",
    "\n",
    "for e in riboseq_all_exps:\n",
    "    a                                    = riboseq_experiment_dfs[e]\n",
    "    restricted_riboseq_experiment_dfs[e] = a[a[\"transcript\"].isin( initial_selected_genes ) ]\n",
    "    \n",
    "for e in rnaseq_all_exps:\n",
    "    a                                    = rnaseq_experiment_dfs[e]\n",
    "    restricted_rnaseq_experiment_dfs[e] = a[a[\"transcript\"].isin( initial_selected_genes ) ]\n",
    "\n",
    "\n",
    "    "
   ]
  },
  {
   "cell_type": "code",
   "execution_count": 591,
   "id": "182cdde7",
   "metadata": {},
   "outputs": [],
   "source": [
    "#######################################################"
   ]
  },
  {
   "cell_type": "code",
   "execution_count": null,
   "id": "e7f8d722",
   "metadata": {},
   "outputs": [],
   "source": []
  },
  {
   "cell_type": "code",
   "execution_count": null,
   "id": "75b805b0",
   "metadata": {},
   "outputs": [],
   "source": []
  },
  {
   "cell_type": "code",
   "execution_count": null,
   "id": "ebc89bab",
   "metadata": {},
   "outputs": [],
   "source": []
  },
  {
   "cell_type": "code",
   "execution_count": 592,
   "id": "85dabd42",
   "metadata": {},
   "outputs": [],
   "source": [
    "def get_p_threshold_for_fdr(this_df, fdr_threshold = FDR_THRESHOLD):\n",
    "    sorted_df = this_df.sort_values(by=\"fdr\")\n",
    "    \n",
    "    result_p = 1\n",
    "    \n",
    "    for i, this_row in sorted_df.iterrows():\n",
    "        if this_row[\"fdr\"] <= fdr_threshold:\n",
    "            result_p = this_row[\"p_val\"]\n",
    "            \n",
    "    return result_p"
   ]
  },
  {
   "cell_type": "code",
   "execution_count": 593,
   "id": "3f0c5e6f",
   "metadata": {},
   "outputs": [
    {
     "name": "stdout",
     "output_type": "stream",
     "text": [
      "The p_value thresholds for 2, 4 and 8 cell stages are:\n",
      " 0.019368514277904394, 0.019225327426669644 and 0.013852584932205049\n"
     ]
    }
   ],
   "source": [
    "p_threshold_two_cell   =  get_p_threshold_for_fdr(filtered_proptest_t_level_two_cell_ribo_rna )\n",
    "p_threshold_four_cell  =  get_p_threshold_for_fdr(filtered_proptest_t_level_four_cell_ribo_rna )\n",
    "p_threshold_eight_cell =  get_p_threshold_for_fdr(filtered_proptest_t_level_eight_cell_ribo_rna )\n",
    "\n",
    "print(\"The p_value thresholds for 2, 4 and 8 cell stages are:\\n {}, {} and {}\".format(\n",
    "         p_threshold_two_cell, p_threshold_four_cell, p_threshold_eight_cell))"
   ]
  },
  {
   "cell_type": "code",
   "execution_count": 594,
   "id": "b5f68926",
   "metadata": {},
   "outputs": [],
   "source": [
    "bootstrap_size = 100"
   ]
  },
  {
   "cell_type": "code",
   "execution_count": 595,
   "id": "94c5908b",
   "metadata": {},
   "outputs": [],
   "source": [
    "def proptest_bootstrapped(ribo_experiments, \n",
    "                          rna_seq_experiments,\n",
    "                          selected_transcripts, \n",
    "                          p_val_threshold, \n",
    "                          size = 100):\n",
    "    \n",
    "    result_dict = {g: 0 for g in selected_transcripts}\n",
    "    \n",
    "    for i in range(size):\n",
    "        if i % 10 == 0:\n",
    "            print(\"Iteration: {}\".format(i))\n",
    "        selected_ribo_experiments = \\\n",
    "            np.random.choice(ribo_experiments, \n",
    "                             size    = len(ribo_experiments), \n",
    "                             replace = True)\n",
    "        \n",
    "        selected_rna_seq_experiments = \\\n",
    "            np.random.choice(rna_seq_experiments, \n",
    "                             size    = len(rna_seq_experiments), \n",
    "                             replace = True)\n",
    "        \n",
    "        ## Aggregate values coming from these replicates\n",
    "        this_riboseq_snp_total   = add_snp_dfs( [restricted_riboseq_experiment_dfs[e] for e in  selected_ribo_experiments] )\n",
    "        this_rnaseq_snp_total    = add_snp_dfs( [restricted_rnaseq_experiment_dfs[e]  for e in selected_rna_seq_experiments ] )\n",
    "        \n",
    "        find_maternal_ratio( this_riboseq_snp_total )\n",
    "        find_maternal_ratio( this_rnaseq_snp_total )\n",
    "        \n",
    "        this_riboseq_t_level = get_transcript_level_counts(this_riboseq_snp_total)\n",
    "        this_rnaseq_t_level  = get_transcript_level_counts(this_rnaseq_snp_total)\n",
    "        \n",
    "        \n",
    "        \n",
    "        proptest_t_level_result   = perform_prop_test( this_riboseq_t_level, \n",
    "                                                       this_rnaseq_t_level,\n",
    "                                                       error_threshold     = PROPTEST_ERROR_THRESHOLD,\n",
    "                                                       filter_small_counts = False)\n",
    "        \n",
    "        filtered_proptest_result = proptest_t_level_result[ proptest_t_level_result[\"p_val\"] <= p_val_threshold ]\n",
    "        \n",
    "        for i, this_row in filtered_proptest_result.iterrows():\n",
    "            result_dict[ i ] += 1\n",
    "            \n",
    "    return result_dict"
   ]
  },
  {
   "cell_type": "code",
   "execution_count": 596,
   "id": "947e3006",
   "metadata": {},
   "outputs": [
    {
     "name": "stdout",
     "output_type": "stream",
     "text": [
      "Iteration: 0\n",
      "Iteration: 10\n",
      "Iteration: 20\n",
      "Iteration: 30\n",
      "Iteration: 40\n",
      "Iteration: 50\n",
      "Iteration: 60\n",
      "Iteration: 70\n",
      "Iteration: 80\n",
      "Iteration: 90\n"
     ]
    }
   ],
   "source": [
    "np.random.seed(2021)\n",
    "\n",
    "bootstrap_result_8cell = \\\n",
    "    proptest_bootstrapped(riboseq_eigth_cell_exps, \n",
    "                          rnaseq_eight_cell_exps, \n",
    "                          p_val_threshold      = p_threshold_eight_cell,\n",
    "                          selected_transcripts = initial_selected_genes,\n",
    "                          size                 = bootstrap_size)"
   ]
  },
  {
   "cell_type": "code",
   "execution_count": 597,
   "id": "d14e2d7c",
   "metadata": {},
   "outputs": [
    {
     "data": {
      "text/plain": [
       "{'Nin-202': 35,\n",
       " 'Pa2g4-202': 0,\n",
       " 'Atp6v0a4-202': 57,\n",
       " 'Ulk1-201': 59,\n",
       " 'Znhit3-201': 25,\n",
       " 'Ddx52-201': 44,\n",
       " 'Eif3d-201': 6,\n",
       " 'Ctsc-201': 62,\n",
       " 'Dyrk3-201': 1,\n",
       " 'Mysm1-201': 17,\n",
       " 'Mtf1-201': 58,\n",
       " 'Tsen2-201': 87,\n",
       " 'Ccnh-201': 75,\n",
       " 'Cct6a-201': 0,\n",
       " 'Ccar1-201': 54,\n",
       " 'Gmnn-201': 49,\n",
       " 'Cdk1-201': 11,\n",
       " 'Ddx21-201': 0,\n",
       " 'Rpl26-206': 18,\n",
       " 'Atg7-201': 52,\n",
       " 'Eprs-201': 52,\n",
       " 'Ppat-202': 56,\n",
       " 'Lyar-201': 82,\n",
       " 'Spdl1-201': 0,\n",
       " 'Srpk1-204': 66,\n",
       " 'Baz1a-205': 60,\n",
       " 'Cdc42-202': 1,\n",
       " 'Noc2l-201': 62,\n",
       " 'Lclat1-201': 96,\n",
       " 'Folr1-204': 8,\n",
       " 'Znrf2-201': 54,\n",
       " 'Stip1-201': 60,\n",
       " 'Bcat1-201': 67,\n",
       " 'Nop14-201': 70,\n",
       " 'Pgd-201': 61,\n",
       " 'Mrps9-201': 1,\n",
       " 'Tpx2-206': 27,\n",
       " 'Umps-201': 73,\n",
       " 'Idh3g-201': 65,\n",
       " 'Sdf4-201': 57,\n",
       " 'Ncoa3-201': 0,\n",
       " 'Actr5-201': 56,\n",
       " 'Naalad2-204': 12,\n",
       " 'Dctd-203': 0,\n",
       " 'Plk1-201': 52,\n",
       " 'Cth-201': 63,\n",
       " 'Ankrd10-201': 64,\n",
       " 'Wdr48-201': 46,\n",
       " 'Tgoln1-201': 64,\n",
       " 'Cbx3-201': 96,\n",
       " 'Atp13a3-202': 55,\n",
       " 'Tmppe-201': 94,\n",
       " 'Pemt-202': 32,\n",
       " 'Slc13a2-201': 70,\n",
       " 'Zfp296-201': 40,\n",
       " 'Rtf2-201': 57,\n",
       " 'Slc6a8-203': 65,\n",
       " 'Ppp2ca-201': 78,\n",
       " 'Scaf4-201': 53}"
      ]
     },
     "execution_count": 597,
     "metadata": {},
     "output_type": "execute_result"
    }
   ],
   "source": [
    "bootstrap_result_8cell"
   ]
  },
  {
   "cell_type": "code",
   "execution_count": 598,
   "id": "244b71fc",
   "metadata": {},
   "outputs": [
    {
     "name": "stdout",
     "output_type": "stream",
     "text": [
      "Iteration: 0\n",
      "Iteration: 10\n",
      "Iteration: 20\n",
      "Iteration: 30\n",
      "Iteration: 40\n",
      "Iteration: 50\n",
      "Iteration: 60\n",
      "Iteration: 70\n",
      "Iteration: 80\n",
      "Iteration: 90\n"
     ]
    }
   ],
   "source": [
    "np.random.seed(2021)\n",
    "\n",
    "bootstrap_result_4cell = \\\n",
    "    proptest_bootstrapped(riboseq_four_cell_exps, \n",
    "                          rnaseq_four_cell_exps, \n",
    "                          p_val_threshold      = p_threshold_four_cell,\n",
    "                          selected_transcripts = initial_selected_genes,\n",
    "                          size                 = bootstrap_size)"
   ]
  },
  {
   "cell_type": "code",
   "execution_count": null,
   "id": "9cdbb05f",
   "metadata": {},
   "outputs": [],
   "source": []
  },
  {
   "cell_type": "code",
   "execution_count": 599,
   "id": "88a08270",
   "metadata": {},
   "outputs": [
    {
     "data": {
      "text/plain": [
       "{'Nin-202': 95,\n",
       " 'Pa2g4-202': 72,\n",
       " 'Atp6v0a4-202': 16,\n",
       " 'Ulk1-201': 0,\n",
       " 'Znhit3-201': 63,\n",
       " 'Ddx52-201': 0,\n",
       " 'Eif3d-201': 92,\n",
       " 'Ctsc-201': 0,\n",
       " 'Dyrk3-201': 0,\n",
       " 'Mysm1-201': 86,\n",
       " 'Mtf1-201': 0,\n",
       " 'Tsen2-201': 0,\n",
       " 'Ccnh-201': 0,\n",
       " 'Cct6a-201': 51,\n",
       " 'Ccar1-201': 5,\n",
       " 'Gmnn-201': 13,\n",
       " 'Cdk1-201': 66,\n",
       " 'Ddx21-201': 67,\n",
       " 'Rpl26-206': 58,\n",
       " 'Atg7-201': 0,\n",
       " 'Eprs-201': 30,\n",
       " 'Ppat-202': 0,\n",
       " 'Lyar-201': 0,\n",
       " 'Spdl1-201': 46,\n",
       " 'Srpk1-204': 0,\n",
       " 'Baz1a-205': 67,\n",
       " 'Cdc42-202': 60,\n",
       " 'Noc2l-201': 28,\n",
       " 'Lclat1-201': 5,\n",
       " 'Folr1-204': 67,\n",
       " 'Znrf2-201': 0,\n",
       " 'Stip1-201': 1,\n",
       " 'Bcat1-201': 0,\n",
       " 'Nop14-201': 15,\n",
       " 'Pgd-201': 4,\n",
       " 'Mrps9-201': 86,\n",
       " 'Tpx2-206': 56,\n",
       " 'Umps-201': 0,\n",
       " 'Idh3g-201': 22,\n",
       " 'Sdf4-201': 0,\n",
       " 'Ncoa3-201': 99,\n",
       " 'Actr5-201': 4,\n",
       " 'Naalad2-204': 46,\n",
       " 'Dctd-203': 34,\n",
       " 'Plk1-201': 0,\n",
       " 'Cth-201': 0,\n",
       " 'Ankrd10-201': 17,\n",
       " 'Wdr48-201': 4,\n",
       " 'Tgoln1-201': 0,\n",
       " 'Cbx3-201': 3,\n",
       " 'Atp13a3-202': 0,\n",
       " 'Tmppe-201': 15,\n",
       " 'Pemt-202': 47,\n",
       " 'Slc13a2-201': 11,\n",
       " 'Zfp296-201': 17,\n",
       " 'Rtf2-201': 0,\n",
       " 'Slc6a8-203': 17,\n",
       " 'Ppp2ca-201': 13,\n",
       " 'Scaf4-201': 0}"
      ]
     },
     "execution_count": 599,
     "metadata": {},
     "output_type": "execute_result"
    }
   ],
   "source": [
    "bootstrap_result_4cell"
   ]
  },
  {
   "cell_type": "code",
   "execution_count": 600,
   "id": "e2a2c3fc",
   "metadata": {},
   "outputs": [
    {
     "name": "stdout",
     "output_type": "stream",
     "text": [
      "Iteration: 0\n",
      "Iteration: 10\n",
      "Iteration: 20\n",
      "Iteration: 30\n",
      "Iteration: 40\n",
      "Iteration: 50\n",
      "Iteration: 60\n",
      "Iteration: 70\n",
      "Iteration: 80\n",
      "Iteration: 90\n"
     ]
    }
   ],
   "source": [
    "np.random.seed(2021)\n",
    "\n",
    "bootstrap_result_2cell = \\\n",
    "    proptest_bootstrapped(riboseq_two_cell_exps, \n",
    "                          rnaseq_two_cell_exps, \n",
    "                          p_val_threshold      = p_threshold_two_cell,\n",
    "                          selected_transcripts = initial_selected_genes,\n",
    "                          size                 = bootstrap_size)"
   ]
  },
  {
   "cell_type": "code",
   "execution_count": 601,
   "id": "e60e84b5",
   "metadata": {},
   "outputs": [
    {
     "data": {
      "text/plain": [
       "{'Nin-202': 0,\n",
       " 'Pa2g4-202': 0,\n",
       " 'Atp6v0a4-202': 0,\n",
       " 'Ulk1-201': 0,\n",
       " 'Znhit3-201': 0,\n",
       " 'Ddx52-201': 0,\n",
       " 'Eif3d-201': 0,\n",
       " 'Ctsc-201': 0,\n",
       " 'Dyrk3-201': 66,\n",
       " 'Mysm1-201': 0,\n",
       " 'Mtf1-201': 0,\n",
       " 'Tsen2-201': 0,\n",
       " 'Ccnh-201': 0,\n",
       " 'Cct6a-201': 34,\n",
       " 'Ccar1-201': 0,\n",
       " 'Gmnn-201': 0,\n",
       " 'Cdk1-201': 2,\n",
       " 'Ddx21-201': 0,\n",
       " 'Rpl26-206': 9,\n",
       " 'Atg7-201': 0,\n",
       " 'Eprs-201': 0,\n",
       " 'Ppat-202': 1,\n",
       " 'Lyar-201': 0,\n",
       " 'Spdl1-201': 6,\n",
       " 'Srpk1-204': 0,\n",
       " 'Baz1a-205': 4,\n",
       " 'Cdc42-202': 0,\n",
       " 'Noc2l-201': 22,\n",
       " 'Lclat1-201': 0,\n",
       " 'Folr1-204': 0,\n",
       " 'Znrf2-201': 0,\n",
       " 'Stip1-201': 0,\n",
       " 'Bcat1-201': 0,\n",
       " 'Nop14-201': 2,\n",
       " 'Pgd-201': 12,\n",
       " 'Mrps9-201': 0,\n",
       " 'Tpx2-206': 12,\n",
       " 'Umps-201': 0,\n",
       " 'Idh3g-201': 0,\n",
       " 'Sdf4-201': 0,\n",
       " 'Ncoa3-201': 0,\n",
       " 'Actr5-201': 0,\n",
       " 'Naalad2-204': 0,\n",
       " 'Dctd-203': 0,\n",
       " 'Plk1-201': 0,\n",
       " 'Cth-201': 0,\n",
       " 'Ankrd10-201': 0,\n",
       " 'Wdr48-201': 0,\n",
       " 'Tgoln1-201': 0,\n",
       " 'Cbx3-201': 0,\n",
       " 'Atp13a3-202': 0,\n",
       " 'Tmppe-201': 0,\n",
       " 'Pemt-202': 0,\n",
       " 'Slc13a2-201': 0,\n",
       " 'Zfp296-201': 67,\n",
       " 'Rtf2-201': 0,\n",
       " 'Slc6a8-203': 0,\n",
       " 'Ppp2ca-201': 0,\n",
       " 'Scaf4-201': 0}"
      ]
     },
     "execution_count": 601,
     "metadata": {},
     "output_type": "execute_result"
    }
   ],
   "source": [
    "bootstrap_result_2cell"
   ]
  },
  {
   "cell_type": "code",
   "execution_count": 602,
   "id": "38f12644",
   "metadata": {},
   "outputs": [],
   "source": [
    "def combine_and_threshold_bootstrap_results( bootstrap_res_dicts , threshold ):\n",
    "    set_of_genes = {}\n",
    "    \n",
    "    for d in bootstrap_res_dicts:\n",
    "        for gene, count in d.items():\n",
    "            if count >= threshold:\n",
    "                set_of_genes[gene] = count\n",
    "                \n",
    "    \n",
    "    return  set_of_genes"
   ]
  },
  {
   "cell_type": "code",
   "execution_count": 603,
   "id": "2b4ca7ff",
   "metadata": {},
   "outputs": [
    {
     "name": "stdout",
     "output_type": "stream",
     "text": [
      "There are 24 genes selected\n"
     ]
    },
    {
     "data": {
      "text/plain": [
       "('Tsen2-201',\n",
       " 'Ccnh-201',\n",
       " 'Lyar-201',\n",
       " 'Srpk1-204',\n",
       " 'Lclat1-201',\n",
       " 'Bcat1-201',\n",
       " 'Nop14-201',\n",
       " 'Umps-201',\n",
       " 'Cbx3-201',\n",
       " 'Tmppe-201',\n",
       " 'Slc13a2-201',\n",
       " 'Ppp2ca-201',\n",
       " 'Nin-202',\n",
       " 'Pa2g4-202',\n",
       " 'Eif3d-201',\n",
       " 'Mysm1-201',\n",
       " 'Cdk1-201',\n",
       " 'Ddx21-201',\n",
       " 'Baz1a-205',\n",
       " 'Folr1-204',\n",
       " 'Mrps9-201',\n",
       " 'Ncoa3-201',\n",
       " 'Dyrk3-201',\n",
       " 'Zfp296-201')"
      ]
     },
     "execution_count": 603,
     "metadata": {},
     "output_type": "execute_result"
    }
   ],
   "source": [
    "bootstrapped_genes_dict = \\\n",
    "    combine_and_threshold_bootstrap_results( \n",
    "        [bootstrap_result_8cell, bootstrap_result_4cell, bootstrap_result_2cell] , \n",
    "        threshold = 66 )\n",
    "\n",
    "print(\"There are {} genes selected\".format(len(bootstrapped_genes_dict)))\n",
    "tuple(bootstrapped_genes_dict)"
   ]
  },
  {
   "cell_type": "code",
   "execution_count": 604,
   "id": "d2e0d65e",
   "metadata": {},
   "outputs": [
    {
     "data": {
      "text/plain": [
       "('Tsen2',\n",
       " 'Ccnh',\n",
       " 'Lyar',\n",
       " 'Srpk1',\n",
       " 'Lclat1',\n",
       " 'Bcat1',\n",
       " 'Nop14',\n",
       " 'Umps',\n",
       " 'Cbx3',\n",
       " 'Tmppe',\n",
       " 'Slc13a2',\n",
       " 'Ppp2ca',\n",
       " 'Nin',\n",
       " 'Pa2g4',\n",
       " 'Eif3d',\n",
       " 'Mysm1',\n",
       " 'Cdk1',\n",
       " 'Ddx21',\n",
       " 'Baz1a',\n",
       " 'Folr1',\n",
       " 'Mrps9',\n",
       " 'Ncoa3',\n",
       " 'Dyrk3',\n",
       " 'Zfp296')"
      ]
     },
     "execution_count": 604,
     "metadata": {},
     "output_type": "execute_result"
    }
   ],
   "source": [
    "tuple( map( lambda x: x.split(\"-\")[0], bootstrapped_genes_dict ) )"
   ]
  },
  {
   "cell_type": "code",
   "execution_count": null,
   "id": "7209848c",
   "metadata": {},
   "outputs": [],
   "source": []
  },
  {
   "cell_type": "code",
   "execution_count": null,
   "id": "37d36736",
   "metadata": {},
   "outputs": [],
   "source": []
  },
  {
   "cell_type": "code",
   "execution_count": 605,
   "id": "292d2157",
   "metadata": {},
   "outputs": [],
   "source": [
    "\n",
    "genes_to_be_highlighted = ('Tsen2-201',\n",
    " 'Lclat1-201',\n",
    " 'Nop14-201',\n",
    " 'Cbx3-201',\n",
    " 'Tmppe-201',\n",
    " 'Slc13a2-201',\n",
    " 'Nin-202',\n",
    " 'Mysm1-201',\n",
    " 'Mrps9-201')"
   ]
  },
  {
   "cell_type": "code",
   "execution_count": null,
   "id": "4b096b56",
   "metadata": {},
   "outputs": [],
   "source": []
  },
  {
   "cell_type": "code",
   "execution_count": 610,
   "id": "0ce070a0",
   "metadata": {},
   "outputs": [
    {
     "data": {
      "text/plain": [
       "'snp_dataframes'"
      ]
     },
     "execution_count": 610,
     "metadata": {},
     "output_type": "execute_result"
    }
   ],
   "source": []
  },
  {
   "cell_type": "markdown",
   "id": "1e96409b",
   "metadata": {},
   "source": [
    "## Store the results coming from selected genes"
   ]
  },
  {
   "cell_type": "code",
   "execution_count": 608,
   "id": "d8d271fd",
   "metadata": {},
   "outputs": [],
   "source": [
    "bootsrapped_genes_list = list(bootstrapped_genes_dict.keys() )\n",
    "\n",
    "refined_ribo_ratios_df        = ribo_ratios_df[bootsrapped_genes_list]\n",
    "refined_rna_ratios_df         = rna_ratios_df[bootsrapped_genes_list]\n",
    "refined_ribo_to_rna_ratios_df = ribo_to_rna_ratios[ bootsrapped_genes_list]\n",
    "\n",
    "\n",
    "refined_ribo_to_rna_ratios_file = os.path.join(OUTPUT_FOLDER, \"refined_ribo_to_rna_ratios.csv\")\n",
    "\n",
    "refined_ribo_to_rna_ratios_df.to_csv(refined_ribo_to_rna_ratios_file)\n",
    "\n",
    "\n",
    "###############################################################################\n",
    "### We output another dataframe where it puts \"*\" for the genes that are significant\n",
    "# (WRT proptest)\n",
    "# We will use that to annotate the heatmap\n",
    "\n",
    "filter_results_dfs = [filtered_proptest_t_level_one_cell_ribo_rna, \n",
    "                         filtered_proptest_t_level_two_cell_ribo_rna,\n",
    "                         filtered_proptest_t_level_four_cell_ribo_rna,\n",
    "                         filtered_proptest_t_level_eight_cell_ribo_rna]\n",
    "\n",
    "binary_result_dfs       =  [filtered_proptest_t_level_mii_ribo_rna,] + filter_results_dfs\n",
    "\n",
    "exp_types               = [\"mii\", \"1\", \"2\", \"4\", \"8\"] \n",
    "\n",
    "test_binary_result_dict = dict([ (x, {}) for x in exp_types ])\n",
    "\n",
    "#for g in refined_ribo_to_rna_ratios_df_05.columns:\n",
    "    \n",
    "    \n",
    "for g in refined_ribo_to_rna_ratios_df.columns:\n",
    "    for i, e in enumerate(exp_types):\n",
    "        proptest_result_is_significant = \"\"\n",
    "        \n",
    "        try:\n",
    "            this_data        = binary_result_dfs[i].loc[g]\n",
    "            if this_data[\"fdr\"] < FDR_THRESHOLD:\n",
    "                proptest_result_is_significant = \"*\"\n",
    "        except KeyError:\n",
    "            pass\n",
    "        \n",
    "        test_binary_result_dict[e][g] = proptest_result_is_significant\n",
    "        \n",
    "test_binary_result_df   =  pd.DataFrame.from_dict(test_binary_result_dict).transpose()\n",
    "test_binary_result_file = os.path.join(OUTPUT_FOLDER, \"refined_ribo_to_rna_binary_significance.csv\")\n",
    "test_binary_result_df.to_csv(test_binary_result_file)\n"
   ]
  }
 ],
 "metadata": {
  "kernelspec": {
   "display_name": "Python 3",
   "language": "python",
   "name": "python3"
  },
  "language_info": {
   "codemirror_mode": {
    "name": "ipython",
    "version": 3
   },
   "file_extension": ".py",
   "mimetype": "text/x-python",
   "name": "python",
   "nbconvert_exporter": "python",
   "pygments_lexer": "ipython3",
   "version": "3.6.13"
  }
 },
 "nbformat": 4,
 "nbformat_minor": 5
}
